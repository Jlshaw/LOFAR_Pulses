{
 "cells": [
  {
   "cell_type": "markdown",
   "metadata": {},
   "source": [
    "# Preprocessing for Full Model "
   ]
  },
  {
   "cell_type": "code",
   "execution_count": 1,
   "metadata": {},
   "outputs": [],
   "source": [
    "import numpy as np\n",
    "import pandas as pd\n",
    "import pickle\n",
    "import matplotlib.pyplot as plt\n",
    "import seaborn as sns\n",
    "\n",
    "np.random.seed(0)\n",
    "\n",
    "%matplotlib inline"
   ]
  },
  {
   "cell_type": "markdown",
   "metadata": {},
   "source": [
    "## Training Setup\n",
    "\n",
    "### Load features data frame"
   ]
  },
  {
   "cell_type": "code",
   "execution_count": 2,
   "metadata": {},
   "outputs": [],
   "source": [
    "# Path to pickle of training features pandas dataframe\n",
    "baseBufferPklFile = 'DataFrames/FullTrainFeatsDF.pkl'"
   ]
  },
  {
   "cell_type": "code",
   "execution_count": 3,
   "metadata": {},
   "outputs": [
    {
     "name": "stdout",
     "output_type": "stream",
     "text": [
      "(5000, 411)\n"
     ]
    }
   ],
   "source": [
    "# load baseBufferPkl\n",
    "df = pd.read_pickle(baseBufferPklFile)\n",
    "\n",
    "# create a label column with 'unlabbled' label\n",
    "df = df.assign(Label=-1)\n",
    "\n",
    "# create a predicted label column with 'unlabelled' label\n",
    "df = df.assign(predictLabel=-1)\n",
    "\n",
    "print(df.shape)"
   ]
  },
  {
   "cell_type": "code",
   "execution_count": 4,
   "metadata": {},
   "outputs": [
    {
     "name": "stdout",
     "output_type": "stream",
     "text": [
      "              Beam       BestDM        Block        DMmax       DMmean  \\\n",
      "count  5000.000000  5000.000000  5000.000000  5000.000000  5000.000000   \n",
      "mean      4.409000    41.420461    26.506600    57.862880    42.622288   \n",
      "std       2.372181    80.313080    54.998696   102.397292    78.245971   \n",
      "min       1.000000     0.100000     1.000000     0.100000     0.100000   \n",
      "25%       2.000000     2.700000     3.000000     3.100000     2.595536   \n",
      "50%       4.000000     9.000000     9.000000     9.800000     9.111806   \n",
      "75%       7.000000    27.700001    30.000000    53.025001    35.968908   \n",
      "max       8.000000   639.600037  1011.000000   639.799988   503.154722   \n",
      "\n",
      "          DMmedian        DMmin        Events  GaussianTestsksD  \\\n",
      "count  5000.000000  5000.000000  5.000000e+03       4964.000000   \n",
      "mean     42.648351    26.750420  7.333751e+03          0.160504   \n",
      "std      79.722249    58.020225  7.419277e+04          0.169688   \n",
      "min       0.100000     0.000000  4.000000e+00          0.005282   \n",
      "25%       2.300000     0.800000  1.300000e+01          0.025188   \n",
      "50%       9.100000     4.600000  4.000000e+01          0.073403   \n",
      "75%      33.150002    14.200000  1.860000e+02          0.268122   \n",
      "max     619.000000   318.399994  3.026132e+06          0.540617   \n",
      "\n",
      "       GaussianTestskspvalue      ...       windTimeSeriesstd5  \\\n",
      "count           4.964000e+03      ...             4.990000e+03   \n",
      "mean            1.732051e-01      ...             2.608978e+03   \n",
      "std             3.101986e-01      ...             7.309449e+04   \n",
      "min             0.000000e+00      ...             0.000000e+00   \n",
      "25%             0.000000e+00      ...             3.111114e+00   \n",
      "50%             1.426001e-09      ...             1.002177e+01   \n",
      "75%             1.909657e-01      ...             3.280816e+01   \n",
      "max             9.999994e-01      ...             4.459537e+06   \n",
      "\n",
      "       windTimeSeriesstd6  windTimeSeriesstd7  windTimeSeriesstd8  \\\n",
      "count        4.992000e+03        4.993000e+03        4.991000e+03   \n",
      "mean         1.153304e+04        1.052842e+04        1.965821e+03   \n",
      "std          6.021801e+05        6.422394e+05        5.088828e+04   \n",
      "min          0.000000e+00        0.000000e+00        0.000000e+00   \n",
      "25%          3.151279e+00        3.103317e+00        3.152810e+00   \n",
      "50%          9.981723e+00        1.002461e+01        1.006744e+01   \n",
      "75%          3.274210e+01        3.282098e+01        3.272852e+01   \n",
      "max          4.200343e+07        4.528847e+07        2.859811e+06   \n",
      "\n",
      "       windTimeSeriesstd9      DMrange        DMstd  DMstdMaxratio   Label  \\\n",
      "count        4.988000e+03  5000.000000  5000.000000    5000.000000  5000.0   \n",
      "mean         3.148279e+03    31.112460     7.359666       0.096593    -1.0   \n",
      "std          7.638345e+04    73.701096    18.292424       0.075745     0.0   \n",
      "min          0.000000e+00     0.000000     0.000000       0.000000    -1.0   \n",
      "25%          3.145184e+00     0.500000     0.131292       0.037176    -1.0   \n",
      "50%          9.969517e+00     1.650002     0.408380       0.087023    -1.0   \n",
      "75%          3.218966e+01    11.400000     2.785387       0.131409    -1.0   \n",
      "max          3.260748e+06   639.799988   211.384461       0.533067    -1.0   \n",
      "\n",
      "       predictLabel  \n",
      "count        5000.0  \n",
      "mean           -1.0  \n",
      "std             0.0  \n",
      "min            -1.0  \n",
      "25%            -1.0  \n",
      "50%            -1.0  \n",
      "75%            -1.0  \n",
      "max            -1.0  \n",
      "\n",
      "[8 rows x 411 columns]\n",
      "['Beam' 'BestDM' 'Block' 'DMmax' 'DMmean' 'DMmedian' 'DMmin' 'Events'\n",
      " 'GaussianTestsksD' 'GaussianTestskspvalue' 'GaussianTestskurtosis'\n",
      " 'GaussianTestsskew' 'MJDStart' 'MJDmax' 'MJDmean' 'MJDmedian' 'MJDmin'\n",
      " 'MJDstd' 'MaxSNR' 'SNRmean' 'SNRmedian' 'SNRmin' 'SNRstd' 'binFactor'\n",
      " 'globalDedispTimeStatsmax' 'globalDedispTimeStatsmean'\n",
      " 'globalDedispTimeStatsmeanMedianRatio' 'globalDedispTimeStatsmedian'\n",
      " 'globalDedispTimeStatsmin' 'globalDedispTimeStatsminMaxRatio'\n",
      " 'globalDedispTimeStatsnegCount' 'globalDedispTimeStatsnegPct'\n",
      " 'globalDedispTimeStatsposCount' 'globalDedispTimeStatsposPct'\n",
      " 'globalDedispTimeStatsstd' 'globalTimeStatsmax' 'globalTimeStatsmean'\n",
      " 'globalTimeStatsmeanMedianRatio' 'globalTimeStatsmedian'\n",
      " 'globalTimeStatsmin' 'globalTimeStatsminMaxRatio'\n",
      " 'globalTimeStatsnegCount' 'globalTimeStatsnegPct'\n",
      " 'globalTimeStatsposCount' 'globalTimeStatsposPct' 'globalTimeStatsstd'\n",
      " 'negPeaks2std' 'negPeaks3std' 'negPeaks5std' 'overflowCounts'\n",
      " 'overflowPct' 'pixelsmax_0_0' 'pixelsmax_0_1' 'pixelsmax_0_2'\n",
      " 'pixelsmax_0_3' 'pixelsmax_10_0' 'pixelsmax_10_1' 'pixelsmax_10_2'\n",
      " 'pixelsmax_10_3' 'pixelsmax_11_0' 'pixelsmax_11_1' 'pixelsmax_11_2'\n",
      " 'pixelsmax_11_3' 'pixelsmax_12_0' 'pixelsmax_12_1' 'pixelsmax_12_2'\n",
      " 'pixelsmax_12_3' 'pixelsmax_13_0' 'pixelsmax_13_1' 'pixelsmax_13_2'\n",
      " 'pixelsmax_13_3' 'pixelsmax_14_0' 'pixelsmax_14_1' 'pixelsmax_14_2'\n",
      " 'pixelsmax_14_3' 'pixelsmax_15_0' 'pixelsmax_15_1' 'pixelsmax_15_2'\n",
      " 'pixelsmax_15_3' 'pixelsmax_1_0' 'pixelsmax_1_1' 'pixelsmax_1_2'\n",
      " 'pixelsmax_1_3' 'pixelsmax_2_0' 'pixelsmax_2_1' 'pixelsmax_2_2'\n",
      " 'pixelsmax_2_3' 'pixelsmax_3_0' 'pixelsmax_3_1' 'pixelsmax_3_2'\n",
      " 'pixelsmax_3_3' 'pixelsmax_4_0' 'pixelsmax_4_1' 'pixelsmax_4_2'\n",
      " 'pixelsmax_4_3' 'pixelsmax_5_0' 'pixelsmax_5_1' 'pixelsmax_5_2'\n",
      " 'pixelsmax_5_3' 'pixelsmax_6_0' 'pixelsmax_6_1' 'pixelsmax_6_2'\n",
      " 'pixelsmax_6_3' 'pixelsmax_7_0' 'pixelsmax_7_1' 'pixelsmax_7_2'\n",
      " 'pixelsmax_7_3' 'pixelsmax_8_0' 'pixelsmax_8_1' 'pixelsmax_8_2'\n",
      " 'pixelsmax_8_3' 'pixelsmax_9_0' 'pixelsmax_9_1' 'pixelsmax_9_2'\n",
      " 'pixelsmax_9_3' 'pixelsmean_0_0' 'pixelsmean_0_1' 'pixelsmean_0_2'\n",
      " 'pixelsmean_0_3' 'pixelsmean_10_0' 'pixelsmean_10_1' 'pixelsmean_10_2'\n",
      " 'pixelsmean_10_3' 'pixelsmean_11_0' 'pixelsmean_11_1' 'pixelsmean_11_2'\n",
      " 'pixelsmean_11_3' 'pixelsmean_12_0' 'pixelsmean_12_1' 'pixelsmean_12_2'\n",
      " 'pixelsmean_12_3' 'pixelsmean_13_0' 'pixelsmean_13_1' 'pixelsmean_13_2'\n",
      " 'pixelsmean_13_3' 'pixelsmean_14_0' 'pixelsmean_14_1' 'pixelsmean_14_2'\n",
      " 'pixelsmean_14_3' 'pixelsmean_15_0' 'pixelsmean_15_1' 'pixelsmean_15_2'\n",
      " 'pixelsmean_15_3' 'pixelsmean_1_0' 'pixelsmean_1_1' 'pixelsmean_1_2'\n",
      " 'pixelsmean_1_3' 'pixelsmean_2_0' 'pixelsmean_2_1' 'pixelsmean_2_2'\n",
      " 'pixelsmean_2_3' 'pixelsmean_3_0' 'pixelsmean_3_1' 'pixelsmean_3_2'\n",
      " 'pixelsmean_3_3' 'pixelsmean_4_0' 'pixelsmean_4_1' 'pixelsmean_4_2'\n",
      " 'pixelsmean_4_3' 'pixelsmean_5_0' 'pixelsmean_5_1' 'pixelsmean_5_2'\n",
      " 'pixelsmean_5_3' 'pixelsmean_6_0' 'pixelsmean_6_1' 'pixelsmean_6_2'\n",
      " 'pixelsmean_6_3' 'pixelsmean_7_0' 'pixelsmean_7_1' 'pixelsmean_7_2'\n",
      " 'pixelsmean_7_3' 'pixelsmean_8_0' 'pixelsmean_8_1' 'pixelsmean_8_2'\n",
      " 'pixelsmean_8_3' 'pixelsmean_9_0' 'pixelsmean_9_1' 'pixelsmean_9_2'\n",
      " 'pixelsmean_9_3' 'pixelsmin_0_0' 'pixelsmin_0_1' 'pixelsmin_0_2'\n",
      " 'pixelsmin_0_3' 'pixelsmin_10_0' 'pixelsmin_10_1' 'pixelsmin_10_2'\n",
      " 'pixelsmin_10_3' 'pixelsmin_11_0' 'pixelsmin_11_1' 'pixelsmin_11_2'\n",
      " 'pixelsmin_11_3' 'pixelsmin_12_0' 'pixelsmin_12_1' 'pixelsmin_12_2'\n",
      " 'pixelsmin_12_3' 'pixelsmin_13_0' 'pixelsmin_13_1' 'pixelsmin_13_2'\n",
      " 'pixelsmin_13_3' 'pixelsmin_14_0' 'pixelsmin_14_1' 'pixelsmin_14_2'\n",
      " 'pixelsmin_14_3' 'pixelsmin_15_0' 'pixelsmin_15_1' 'pixelsmin_15_2'\n",
      " 'pixelsmin_15_3' 'pixelsmin_1_0' 'pixelsmin_1_1' 'pixelsmin_1_2'\n",
      " 'pixelsmin_1_3' 'pixelsmin_2_0' 'pixelsmin_2_1' 'pixelsmin_2_2'\n",
      " 'pixelsmin_2_3' 'pixelsmin_3_0' 'pixelsmin_3_1' 'pixelsmin_3_2'\n",
      " 'pixelsmin_3_3' 'pixelsmin_4_0' 'pixelsmin_4_1' 'pixelsmin_4_2'\n",
      " 'pixelsmin_4_3' 'pixelsmin_5_0' 'pixelsmin_5_1' 'pixelsmin_5_2'\n",
      " 'pixelsmin_5_3' 'pixelsmin_6_0' 'pixelsmin_6_1' 'pixelsmin_6_2'\n",
      " 'pixelsmin_6_3' 'pixelsmin_7_0' 'pixelsmin_7_1' 'pixelsmin_7_2'\n",
      " 'pixelsmin_7_3' 'pixelsmin_8_0' 'pixelsmin_8_1' 'pixelsmin_8_2'\n",
      " 'pixelsmin_8_3' 'pixelsmin_9_0' 'pixelsmin_9_1' 'pixelsmin_9_2'\n",
      " 'pixelsmin_9_3' 'posPeaks2std' 'posPeaks3std' 'posPeaks5std'\n",
      " 'windDedispTimeSeriesmax0' 'windDedispTimeSeriesmax1'\n",
      " 'windDedispTimeSeriesmax10' 'windDedispTimeSeriesmax11'\n",
      " 'windDedispTimeSeriesmax12' 'windDedispTimeSeriesmax13'\n",
      " 'windDedispTimeSeriesmax14' 'windDedispTimeSeriesmax15'\n",
      " 'windDedispTimeSeriesmax2' 'windDedispTimeSeriesmax3'\n",
      " 'windDedispTimeSeriesmax4' 'windDedispTimeSeriesmax5'\n",
      " 'windDedispTimeSeriesmax6' 'windDedispTimeSeriesmax7'\n",
      " 'windDedispTimeSeriesmax8' 'windDedispTimeSeriesmax9'\n",
      " 'windDedispTimeSeriesmean0' 'windDedispTimeSeriesmean1'\n",
      " 'windDedispTimeSeriesmean10' 'windDedispTimeSeriesmean11'\n",
      " 'windDedispTimeSeriesmean12' 'windDedispTimeSeriesmean13'\n",
      " 'windDedispTimeSeriesmean14' 'windDedispTimeSeriesmean15'\n",
      " 'windDedispTimeSeriesmean2' 'windDedispTimeSeriesmean3'\n",
      " 'windDedispTimeSeriesmean4' 'windDedispTimeSeriesmean5'\n",
      " 'windDedispTimeSeriesmean6' 'windDedispTimeSeriesmean7'\n",
      " 'windDedispTimeSeriesmean8' 'windDedispTimeSeriesmean9'\n",
      " 'windDedispTimeSeriesmin0' 'windDedispTimeSeriesmin1'\n",
      " 'windDedispTimeSeriesmin10' 'windDedispTimeSeriesmin11'\n",
      " 'windDedispTimeSeriesmin12' 'windDedispTimeSeriesmin13'\n",
      " 'windDedispTimeSeriesmin14' 'windDedispTimeSeriesmin15'\n",
      " 'windDedispTimeSeriesmin2' 'windDedispTimeSeriesmin3'\n",
      " 'windDedispTimeSeriesmin4' 'windDedispTimeSeriesmin5'\n",
      " 'windDedispTimeSeriesmin6' 'windDedispTimeSeriesmin7'\n",
      " 'windDedispTimeSeriesmin8' 'windDedispTimeSeriesmin9'\n",
      " 'windDedispTimeSeriessnr0' 'windDedispTimeSeriessnr1'\n",
      " 'windDedispTimeSeriessnr10' 'windDedispTimeSeriessnr11'\n",
      " 'windDedispTimeSeriessnr12' 'windDedispTimeSeriessnr13'\n",
      " 'windDedispTimeSeriessnr14' 'windDedispTimeSeriessnr15'\n",
      " 'windDedispTimeSeriessnr2' 'windDedispTimeSeriessnr3'\n",
      " 'windDedispTimeSeriessnr4' 'windDedispTimeSeriessnr5'\n",
      " 'windDedispTimeSeriessnr6' 'windDedispTimeSeriessnr7'\n",
      " 'windDedispTimeSeriessnr8' 'windDedispTimeSeriessnr9'\n",
      " 'windDedispTimeSeriesstd0' 'windDedispTimeSeriesstd1'\n",
      " 'windDedispTimeSeriesstd10' 'windDedispTimeSeriesstd11'\n",
      " 'windDedispTimeSeriesstd12' 'windDedispTimeSeriesstd13'\n",
      " 'windDedispTimeSeriesstd14' 'windDedispTimeSeriesstd15'\n",
      " 'windDedispTimeSeriesstd2' 'windDedispTimeSeriesstd3'\n",
      " 'windDedispTimeSeriesstd4' 'windDedispTimeSeriesstd5'\n",
      " 'windDedispTimeSeriesstd6' 'windDedispTimeSeriesstd7'\n",
      " 'windDedispTimeSeriesstd8' 'windDedispTimeSeriesstd9'\n",
      " 'windTimeSeriesmax0' 'windTimeSeriesmax1' 'windTimeSeriesmax10'\n",
      " 'windTimeSeriesmax11' 'windTimeSeriesmax12' 'windTimeSeriesmax13'\n",
      " 'windTimeSeriesmax14' 'windTimeSeriesmax15' 'windTimeSeriesmax2'\n",
      " 'windTimeSeriesmax3' 'windTimeSeriesmax4' 'windTimeSeriesmax5'\n",
      " 'windTimeSeriesmax6' 'windTimeSeriesmax7' 'windTimeSeriesmax8'\n",
      " 'windTimeSeriesmax9' 'windTimeSeriesmean0' 'windTimeSeriesmean1'\n",
      " 'windTimeSeriesmean10' 'windTimeSeriesmean11' 'windTimeSeriesmean12'\n",
      " 'windTimeSeriesmean13' 'windTimeSeriesmean14' 'windTimeSeriesmean15'\n",
      " 'windTimeSeriesmean2' 'windTimeSeriesmean3' 'windTimeSeriesmean4'\n",
      " 'windTimeSeriesmean5' 'windTimeSeriesmean6' 'windTimeSeriesmean7'\n",
      " 'windTimeSeriesmean8' 'windTimeSeriesmean9' 'windTimeSeriesmin0'\n",
      " 'windTimeSeriesmin1' 'windTimeSeriesmin10' 'windTimeSeriesmin11'\n",
      " 'windTimeSeriesmin12' 'windTimeSeriesmin13' 'windTimeSeriesmin14'\n",
      " 'windTimeSeriesmin15' 'windTimeSeriesmin2' 'windTimeSeriesmin3'\n",
      " 'windTimeSeriesmin4' 'windTimeSeriesmin5' 'windTimeSeriesmin6'\n",
      " 'windTimeSeriesmin7' 'windTimeSeriesmin8' 'windTimeSeriesmin9'\n",
      " 'windTimeSeriessnr0' 'windTimeSeriessnr1' 'windTimeSeriessnr10'\n",
      " 'windTimeSeriessnr11' 'windTimeSeriessnr12' 'windTimeSeriessnr13'\n",
      " 'windTimeSeriessnr14' 'windTimeSeriessnr15' 'windTimeSeriessnr2'\n",
      " 'windTimeSeriessnr3' 'windTimeSeriessnr4' 'windTimeSeriessnr5'\n",
      " 'windTimeSeriessnr6' 'windTimeSeriessnr7' 'windTimeSeriessnr8'\n",
      " 'windTimeSeriessnr9' 'windTimeSeriesstd0' 'windTimeSeriesstd1'\n",
      " 'windTimeSeriesstd10' 'windTimeSeriesstd11' 'windTimeSeriesstd12'\n",
      " 'windTimeSeriesstd13' 'windTimeSeriesstd14' 'windTimeSeriesstd15'\n",
      " 'windTimeSeriesstd2' 'windTimeSeriesstd3' 'windTimeSeriesstd4'\n",
      " 'windTimeSeriesstd5' 'windTimeSeriesstd6' 'windTimeSeriesstd7'\n",
      " 'windTimeSeriesstd8' 'windTimeSeriesstd9' 'DMrange' 'DMstd'\n",
      " 'DMstdMaxratio' 'Label' 'predictLabel']\n"
     ]
    }
   ],
   "source": [
    "print(df.describe())\n",
    "print(df.columns.values)"
   ]
  },
  {
   "cell_type": "markdown",
   "metadata": {},
   "source": [
    "### Load labels from original data and test \n",
    "#### Load in label pkl's"
   ]
  },
  {
   "cell_type": "code",
   "execution_count": 5,
   "metadata": {},
   "outputs": [
    {
     "name": "stdout",
     "output_type": "stream",
     "text": [
      "Number of lables: 4000\n",
      "Unique set of labels: {'s', '5', '1', '9', 'a', '2', '8', '3', '7', '0', '6', '4'}\n"
     ]
    }
   ],
   "source": [
    "LABEL_PKL_FILE1 = 'C:/Users/jlsha/MPhysProject/LOFAR_Pulses/LOFAR_Pulses/Data/artemisLabels_Set2_Jamie.pkl'\n",
    "labelDict1 = pickle.load(open(LABEL_PKL_FILE1, 'rb'))\n",
    "print('Number of lables:', len(labelDict1))\n",
    "print('Unique set of labels:', set(labelDict1.values()))"
   ]
  },
  {
   "cell_type": "code",
   "execution_count": 6,
   "metadata": {},
   "outputs": [
    {
     "name": "stdout",
     "output_type": "stream",
     "text": [
      "Number of lables: 1000\n",
      "Unique set of labels: {'s', '5', '1', '9', 'a', '2', '8', '3', '7', '0', '6', '4'}\n"
     ]
    }
   ],
   "source": [
    "LABEL_PKL_FILE2 = 'C:/Users/jlsha/MPhysProject/LOFAR_Pulses/LOFAR_Pulses/Data/artemisTestLabels.pkl'\n",
    "labelDict2 = pickle.load(open(LABEL_PKL_FILE2, 'rb'))\n",
    "print('Number of lables:', len(labelDict2))\n",
    "print('Unique set of labels:', set(labelDict2.values()))"
   ]
  },
  {
   "cell_type": "markdown",
   "metadata": {},
   "source": [
    "#### Combine label dictionaries into one"
   ]
  },
  {
   "cell_type": "code",
   "execution_count": 7,
   "metadata": {},
   "outputs": [
    {
     "name": "stdout",
     "output_type": "stream",
     "text": [
      "Number of lables: 5000\n",
      "Unique set of labels: {'s', '5', '1', '9', 'a', '2', '8', '3', '7', '0', '6', '4'}\n"
     ]
    }
   ],
   "source": [
    "labelDict1.update(labelDict2)\n",
    "print('Number of lables:', len(labelDict1))\n",
    "print('Unique set of labels:', set(labelDict1.values()))"
   ]
  },
  {
   "cell_type": "code",
   "execution_count": 8,
   "metadata": {},
   "outputs": [],
   "source": [
    "# Label string to integer map\n",
    "labelStr2IntDict = {'0':0, '1':1, '2':2, '3':3, '4':4, '5':5, '6':6, '7':7, '8':8, '9':9,\n",
    "                    'a':10, 's':11}\n",
    "\n",
    "labelSeries = pd.Series\n",
    "for key,val in labelDict1.items():\n",
    "    df.loc[key, 'Label'] = labelStr2IntDict[val]"
   ]
  },
  {
   "cell_type": "markdown",
   "metadata": {},
   "source": [
    "#### Labels\n",
    "\n",
    "* 0 : Interesting, follow up\n",
    "* 1 : Narrow freq, variable, pulsed\n",
    "* 2 : Constant, narrow in freq\n",
    "* 3 : Narrow in time, pulsed across the beam\n",
    "* 4 : Variable freq vs time\n",
    "* 5 : Flat baseline noise\n",
    "* 6 : State change\n",
    "* 7 : Overflow\n",
    "* 8 : Broadband RFI\n",
    "* 9 : Impulse\n",
    "* 10 : Low DM Pulsars (DM 2-15)\n",
    "* 11 : High DM Pulsars (DM > 15)"
   ]
  },
  {
   "cell_type": "code",
   "execution_count": 9,
   "metadata": {},
   "outputs": [
    {
     "name": "stdout",
     "output_type": "stream",
     "text": [
      "10    1523\n",
      "9     1272\n",
      "4      466\n",
      "3      356\n",
      "11     263\n",
      "2      261\n",
      "7      257\n",
      "5      215\n",
      "6      133\n",
      "8      114\n",
      "1       71\n",
      "0       69\n",
      "Name: Label, dtype: int64\n"
     ]
    }
   ],
   "source": [
    "print(df['Label'].value_counts()) # label counts"
   ]
  },
  {
   "cell_type": "code",
   "execution_count": 25,
   "metadata": {},
   "outputs": [
    {
     "data": {
      "text/plain": [
       "Beam                                        4.000000\n",
       "BestDM                                    171.199997\n",
       "Block                                      11.000000\n",
       "DMmax                                     199.500000\n",
       "DMmean                                    165.488477\n",
       "DMmedian                                  167.699997\n",
       "DMmin                                      80.800003\n",
       "Events                                    321.000000\n",
       "GaussianTestsksD                            0.041508\n",
       "GaussianTestskspvalue                       0.523557\n",
       "GaussianTestskurtosis                       1.012112\n",
       "GaussianTestsskew                          -0.288600\n",
       "MJDStart                                57179.399713\n",
       "MJDmax                                  57179.399746\n",
       "MJDmean                                 57179.399742\n",
       "MJDmedian                               57179.399743\n",
       "MJDmin                                  57179.399738\n",
       "MJDstd                                      0.000002\n",
       "MaxSNR                                     11.244002\n",
       "SNRmean                                    10.319911\n",
       "SNRmedian                                  10.240983\n",
       "SNRmin                                     10.001548\n",
       "SNRstd                                      0.272134\n",
       "binFactor                                  64.000000\n",
       "globalDedispTimeStatsmax                 3126.178467\n",
       "globalDedispTimeStatsmean                 -55.204079\n",
       "globalDedispTimeStatsmeanMedianRatio        0.409786\n",
       "globalDedispTimeStatsmedian              -134.714355\n",
       "globalDedispTimeStatsmin                -1274.806396\n",
       "globalDedispTimeStatsminMaxRatio            2.452277\n",
       "                                            ...     \n",
       "windTimeSeriessnr4                          0.888062\n",
       "windTimeSeriessnr5                          0.917180\n",
       "windTimeSeriessnr6                         -0.126845\n",
       "windTimeSeriessnr7                          1.077027\n",
       "windTimeSeriessnr8                          0.811856\n",
       "windTimeSeriessnr9                          0.508525\n",
       "windTimeSeriesstd0                         29.304974\n",
       "windTimeSeriesstd1                         21.019962\n",
       "windTimeSeriesstd10                        30.111294\n",
       "windTimeSeriesstd11                        32.769588\n",
       "windTimeSeriesstd12                        34.601536\n",
       "windTimeSeriesstd13                        26.011644\n",
       "windTimeSeriesstd14                        37.668125\n",
       "windTimeSeriesstd15                        18.216059\n",
       "windTimeSeriesstd2                         22.749119\n",
       "windTimeSeriesstd3                         39.896423\n",
       "windTimeSeriesstd4                         32.074478\n",
       "windTimeSeriesstd5                         34.015133\n",
       "windTimeSeriesstd6                         32.098522\n",
       "windTimeSeriesstd7                         26.162960\n",
       "windTimeSeriesstd8                         33.706684\n",
       "windTimeSeriesstd9                         26.999147\n",
       "DMrange                                   118.699997\n",
       "DMstd                                      25.514592\n",
       "DMstdMaxratio                               0.127893\n",
       "Label                                       2.000000\n",
       "predictLabel                               -1.000000\n",
       "relMJDmax                                   0.000008\n",
       "relMJDmean                                  0.000005\n",
       "relMJDmedian                                0.000005\n",
       "Name: Beam4_dm_D20150606T034734_block11.png, Length: 414, dtype: float64"
      ]
     },
     "execution_count": 25,
     "metadata": {},
     "output_type": "execute_result"
    }
   ],
   "source": [
    "df.iloc[744]"
   ]
  },
  {
   "cell_type": "code",
   "execution_count": 10,
   "metadata": {},
   "outputs": [
    {
     "data": {
      "text/plain": [
       "array([[<matplotlib.axes._subplots.AxesSubplot object at 0x00000154A903B748>]],\n",
       "      dtype=object)"
      ]
     },
     "execution_count": 10,
     "metadata": {},
     "output_type": "execute_result"
    },
    {
     "data": {
      "image/png": "[encoded data removed]",
      "text/plain": [
       "<Figure size 432x288 with 1 Axes>"
      ]
     },
     "metadata": {},
     "output_type": "display_data"
    }
   ],
   "source": [
    "df.hist('Label', bins=len(df['Label'].unique()))"
   ]
  },
  {
   "cell_type": "markdown",
   "metadata": {},
   "source": [
    "#### Compute MJD Features\n",
    "\n",
    "We don't care about the absolute MJDs, but the relative offset within the dataset."
   ]
  },
  {
   "cell_type": "code",
   "execution_count": 11,
   "metadata": {},
   "outputs": [],
   "source": [
    "df['relMJDmax'] = df['MJDmax'] - df['MJDmin']\n",
    "df['relMJDmean'] = df['MJDmean'] - df['MJDmin']\n",
    "df['relMJDmedian'] = df['MJDmedian'] - df['MJDmin']"
   ]
  },
  {
   "cell_type": "markdown",
   "metadata": {},
   "source": [
    "#### Filter for only labelled data (i.e. Label > -1)"
   ]
  },
  {
   "cell_type": "code",
   "execution_count": 12,
   "metadata": {},
   "outputs": [],
   "source": [
    "labelledDf = df[df['Label'] > -1].copy()"
   ]
  },
  {
   "cell_type": "markdown",
   "metadata": {},
   "source": [
    "#### Select out the labels"
   ]
  },
  {
   "cell_type": "code",
   "execution_count": 13,
   "metadata": {},
   "outputs": [],
   "source": [
    "labels = labelledDf['Label'].values"
   ]
  },
  {
   "cell_type": "markdown",
   "metadata": {},
   "source": [
    "#### Sanity check\n",
    "Make sure the features don't have extreme values"
   ]
  },
  {
   "cell_type": "code",
   "execution_count": 14,
   "metadata": {},
   "outputs": [
    {
     "name": "stdout",
     "output_type": "stream",
     "text": [
      "Beam 1 8 2.372181369307533\n",
      "BestDM 0.10000000149012 639.60003662109 80.31308027151937\n",
      "Block 1 1011 54.998695691312356\n",
      "DMmax 0.10000000149011999 639.79998779297 102.39729156927233\n",
      "DMmean 0.10000000149011999 503.15472229242846 78.24597096655467\n",
      "DMmedian 0.10000000149011999 619.0 79.72224859275926\n",
      "DMmin 0.0 318.39999389648 58.02022460267964\n",
      "Events 4 3026132 74192.77098429258\n",
      "GaussianTestsksD 0.0052822115053891006 0.5406166487063576 0.16968848782627044\n",
      "GaussianTestskspvalue 0.0 0.9999994330958465 0.310198569576694\n",
      "GaussianTestskurtosis -3.0 24409.000587580922 907.2015597979077\n",
      "GaussianTestsskew -156.24020385742188 77.18482208251953 12.291239288053024\n",
      "MJDStart 16767.498375356998 58202.037565258 2328.821138645233\n",
      "MJDmax 16767.49838992 58202.037590077 2328.821140173643\n",
      "MJDmean 16767.49838331881 58202.037589989784 2328.8211401978747\n",
      "MJDmedian 16767.498389192 58202.03759001599 2328.821140173249\n",
      "MJDmin 16767.498376813 58202.037589812004 2328.8211399906245\n",
      "MJDstd 0.0 3.0286356403652448e-05 4.690441192265568e-06\n",
      "MaxSNR 0.20000000298023 9614019.0 137134.80596457064\n",
      "SNRmean 8.339529752731325 1776637.6589789947 25380.542815083616\n",
      "SNRmedian 8.2189064025879 1554596.375 22217.965347463312\n",
      "SNRmin 0.0 21896.291015625 309.5219671879819\n",
      "SNRstd 0.003032176907311099 1421263.9520924122 20278.621150519786\n",
      "binFactor 1 64 23.484484992587568\n",
      "globalDedispTimeStatsmax -18290240.0 119605456.0 1884853.1456038237\n",
      "globalDedispTimeStatsmean -135787536.0 1544.7789306640625 2490491.42659045\n",
      "globalDedispTimeStatsmeanMedianRatio 8.662832260597497e-05 582122560.0 8873415.018999675\n",
      "globalDedispTimeStatsmedian -20043848.0 8721.005859375 468807.0959461035\n",
      "globalDedispTimeStatsmin -2905558016.0 -11.921437610806606 43749384.35562891\n",
      "globalDedispTimeStatsminMaxRatio 3.0068867999943905e-05 248.61627197265625 4.1498860812375655\n",
      "globalDedispTimeStatsnegCount 0 12434 2395.497886522135\n",
      "globalDedispTimeStatsnegPct 0.0 0.9028871391076115 0.09599195533963509\n",
      "globalDedispTimeStatsposCount 0 24100 2539.3895996346646\n",
      "globalDedispTimeStatsposPct 0.0 0.9937331039567461 0.09679903888482723\n",
      "globalDedispTimeStatsstd 0.0 445093088.0 7679595.160352486\n",
      "globalTimeStatsmax -18290240.0 3921890304.0 57676600.17732761\n",
      "globalTimeStatsmean -41667052.0 1562980.375 704386.7394130816\n",
      "globalTimeStatsmeanMedianRatio 0.0 1366393749504.0 19388817078.37908\n",
      "globalTimeStatsmedian -31516074.0 0.598672537308176 517126.8511067674\n",
      "globalTimeStatsmin -1862995712.0 -3.2629815447826616e-05 35089889.36613595\n",
      "globalTimeStatsminMaxRatio 0.0 336591912960.0 4775915093.708879\n",
      "globalTimeStatsnegCount 0 24171 2486.681636990613\n",
      "globalTimeStatsnegPct 0.0 0.9998361595805685 0.1711291610877449\n",
      "globalTimeStatsposCount 0 24412 2792.099875486897\n",
      "globalTimeStatsposPct 0.0 0.9999180797902842 0.1751027948194637\n",
      "globalTimeStatsstd 0.0 111384856.0 1757701.71877957\n",
      "negPeaks2std 0.0 4288.0 157.66262338868614\n",
      "negPeaks3std 0.0 1181.0 46.31633066486675\n",
      "negPeaks5std 0.0 300.0 12.800385540053743\n",
      "overflowCounts 0 6054672 123732.7227914746\n",
      "overflowPct 0.0 1.0 0.0342136096393868\n",
      "pixelsmax_0_0 -381054.46875 3810234.5 55913.90194955728\n",
      "pixelsmax_0_1 -381054.46875 3810224.5 55913.62096328412\n",
      "pixelsmax_0_2 -381054.46875 3810226.5 55913.970371761934\n",
      "pixelsmax_0_3 -381054.46875 3810216.5 55913.980924343516\n",
      "pixelsmax_10_0 -141424.109375 3810234.5 55669.96431322407\n",
      "pixelsmax_10_1 -141424.109375 3810224.5 55669.66912842905\n",
      "pixelsmax_10_2 -141424.109375 3810226.5 55670.05194832153\n",
      "pixelsmax_10_3 -141424.109375 3810216.5 55670.062919726166\n",
      "pixelsmax_11_0 -141424.109375 3810234.5 55669.21049285418\n",
      "pixelsmax_11_1 -141424.109375 3810224.5 55668.913742567776\n",
      "pixelsmax_11_2 -141424.109375 3810226.5 55669.295488329095\n",
      "pixelsmax_11_3 -141424.109375 3810216.5 55669.30440980552\n",
      "pixelsmax_12_0 -141424.109375 3810234.5 55676.10106039283\n",
      "pixelsmax_12_1 -141424.109375 3810224.5 55675.769880408785\n",
      "pixelsmax_12_2 -141424.109375 3810226.5 55676.18303288587\n",
      "pixelsmax_12_3 -141424.109375 3810216.5 55676.196117916224\n",
      "pixelsmax_13_0 -88627.953125 3810234.5 55654.20950358654\n",
      "pixelsmax_13_1 -88623.0625 3810224.5 55653.888350649584\n",
      "pixelsmax_13_2 -88609.15625 3810226.5 55654.27534298003\n",
      "pixelsmax_13_3 -88622.4375 3810216.5 55654.3011188838\n",
      "pixelsmax_14_0 -27854.42578125 3810234.5 55650.81300501814\n",
      "pixelsmax_14_1 -27854.42578125 3810224.5 55650.52630000374\n",
      "pixelsmax_14_2 -27854.42578125 3810226.5 55650.292090790994\n",
      "pixelsmax_14_3 -27854.42578125 3810216.5 55645.76342083136\n",
      "pixelsmax_15_0 -27854.42578125 6455734.5 107007.66944901689\n",
      "pixelsmax_15_1 -27854.42578125 6458492.0 107040.89482482114\n",
      "pixelsmax_15_2 -27854.42578125 6196621.0 103891.9524283579\n",
      "pixelsmax_15_3 -33569.8671875 3810216.5 55661.91253133809\n",
      "pixelsmax_1_0 -381054.46875 3810234.5 55895.45924908876\n",
      "pixelsmax_1_1 -381054.46875 3810224.5 55895.17170458444\n",
      "pixelsmax_1_2 -381054.46875 3810226.5 55895.51591027211\n",
      "pixelsmax_1_3 -381054.46875 3810216.5 55895.51773408934\n",
      "pixelsmax_2_0 -381054.46875 3810234.5 55892.05423058808\n",
      "pixelsmax_2_1 -381054.46875 3810224.5 55891.80450095773\n",
      "pixelsmax_2_2 -381054.46875 3810226.5 55892.146180226984\n",
      "pixelsmax_2_3 -381054.46875 3810216.5 55892.14461520742\n",
      "pixelsmax_3_0 -381054.46875 3810234.5 55895.23204609505\n",
      "pixelsmax_3_1 -381054.46875 3810224.5 55894.98358497532\n",
      "pixelsmax_3_2 -381054.46875 3810226.5 55895.31411817286\n",
      "pixelsmax_3_3 -381054.46875 3810216.5 55895.328649129544\n",
      "pixelsmax_4_0 -381054.46875 3810234.5 55895.26910140205\n",
      "pixelsmax_4_1 -381054.46875 3810224.5 55895.00985054203\n",
      "pixelsmax_4_2 -381054.46875 3810226.5 55895.36678874108\n",
      "pixelsmax_4_3 -381054.46875 3810216.5 55895.3700983946\n",
      "pixelsmax_5_0 -381054.46875 3810234.5 55920.061320983\n",
      "pixelsmax_5_1 -381054.46875 3810224.5 55919.780418567985\n",
      "pixelsmax_5_2 -381054.46875 3810226.5 55920.15585567081\n",
      "pixelsmax_5_3 -381054.46875 3810216.5 55920.15541789453\n",
      "pixelsmax_6_0 -132309.375 3810234.5 55655.60180064254\n",
      "pixelsmax_6_1 -132309.375 3810224.5 55655.32949927162\n",
      "pixelsmax_6_2 -132309.375 3810226.5 55655.69456147826\n",
      "pixelsmax_6_3 -132309.375 3810216.5 55655.72767994107\n",
      "pixelsmax_7_0 -139655.15625 3810234.5 55651.54714769083\n",
      "pixelsmax_7_1 -139655.15625 3810224.5 55651.27062135509\n",
      "pixelsmax_7_2 -139655.15625 3810226.5 55651.633194397895\n",
      "pixelsmax_7_3 -139655.15625 3810216.5 55651.665488969564\n",
      "pixelsmax_8_0 -141424.109375 3810234.5 55663.61100061059\n",
      "pixelsmax_8_1 -141424.109375 3810224.5 55663.323206702575\n",
      "pixelsmax_8_2 -141424.109375 3810226.5 55663.69336843044\n",
      "pixelsmax_8_3 -141424.109375 3810216.5 55663.71950475469\n",
      "pixelsmax_9_0 -141424.109375 3810234.5 55680.544471694586\n",
      "pixelsmax_9_1 -141424.109375 3810224.5 55680.24840719513\n",
      "pixelsmax_9_2 -141424.109375 3810226.5 55680.62356580886\n",
      "pixelsmax_9_3 -141424.109375 3810216.5 55680.63950754294\n",
      "pixelsmean_0_0 -381054.46875 3810232.25 55918.74577684715\n",
      "pixelsmean_0_1 -381054.46875 3810206.5 55918.33071763977\n",
      "pixelsmean_0_2 -11725658.0 93.01316833496094 171135.57210954453\n",
      "pixelsmean_0_3 -381054.46875 3810216.0 55918.8188882935\n",
      "pixelsmean_10_0 -141424.109375 3810232.25 55673.02217845094\n",
      "pixelsmean_10_1 -141424.109375 3810206.5 55672.632381160096\n",
      "pixelsmean_10_2 -11725658.0 93.43862915039062 171010.90226537394\n",
      "pixelsmean_10_3 -141424.109375 3810216.0 55673.14247841363\n",
      "pixelsmean_11_0 -141424.109375 3810232.25 55671.48985141569\n",
      "pixelsmean_11_1 -141424.109375 3810206.5 55671.09855809771\n",
      "pixelsmean_11_2 -11725658.0 94.565673828125 171010.527312239\n",
      "pixelsmean_11_3 -141424.109375 3810216.0 55671.61224857407\n",
      "pixelsmean_12_0 -141424.109375 3810232.25 55677.07836553868\n",
      "pixelsmean_12_1 -141424.109375 3810206.5 55676.686118345395\n",
      "pixelsmean_12_2 -11725658.0 92.33885955810547 171027.71083764208\n",
      "pixelsmean_12_3 -141424.109375 3810216.0 55677.20452482689\n",
      "pixelsmean_13_0 -138757.40625 3810232.25 55676.13780796315\n",
      "pixelsmean_13_1 -138757.390625 3810206.5 55675.74404441923\n",
      "pixelsmean_13_2 -11725658.0 2242.787353515625 171027.33775791017\n",
      "pixelsmean_13_3 -138757.171875 3810216.0 55676.258915709106\n",
      "pixelsmean_14_0 -148062.78125 3810232.25 55688.210048874695\n",
      "pixelsmean_14_1 -148068.125 3810206.5 55687.81337380911\n",
      "pixelsmean_14_2 -11725658.0 2881.968017578125 171046.38365452294\n",
      "pixelsmean_14_3 -148038.84375 3810216.0 55692.26260709882\n",
      "pixelsmean_15_0 -27854.423828125 3810232.25 55650.68576457572\n",
      "pixelsmean_15_1 -27854.423828125 3810206.5 55650.249316153706\n",
      "pixelsmean_15_2 -11725658.0 40202.18359375 171035.35209974158\n",
      "pixelsmean_15_3 -367112.375 3810216.0 55899.07499419557\n",
      "pixelsmean_1_0 -381054.46875 3810232.25 55900.44177542213\n",
      "pixelsmean_1_1 -381054.46875 3810206.5 55900.02587547881\n",
      "pixelsmean_1_2 -11725658.0 96.9593276977539 171083.76388760263\n",
      "pixelsmean_1_3 -381054.46875 3810216.0 55900.51081499483\n",
      "pixelsmean_2_0 -381054.46875 3810232.25 55897.052055074724\n",
      "pixelsmean_2_1 -381054.46875 3810206.5 55896.65115601987\n",
      "pixelsmean_2_2 -11725658.0 93.77405548095703 171067.34452315184\n",
      "pixelsmean_2_3 -381054.46875 3810216.0 55897.14545843775\n",
      "pixelsmean_3_0 -381054.46875 3810232.25 55896.27082134971\n",
      "pixelsmean_3_1 -381054.46875 3810206.5 55895.884164206676\n",
      "pixelsmean_3_2 -11725658.0 92.01294708251953 171082.83743299905\n",
      "pixelsmean_3_3 -381054.46875 3810216.0 55896.39215014372\n",
      "pixelsmean_4_0 -381054.46875 3810232.25 55897.495771270995\n",
      "pixelsmean_4_1 -381054.46875 3810206.5 55897.105995235615\n",
      "pixelsmean_4_2 -11725658.0 90.01221466064453 171083.1022841633\n",
      "pixelsmean_4_3 -381054.46875 3810216.0 55897.60966605676\n",
      "pixelsmean_5_0 -381054.46875 3810232.25 55929.7783422081\n",
      "pixelsmean_5_1 -381054.46875 3810206.5 55929.381514111294\n",
      "pixelsmean_5_2 -11725658.0 93.76274108886719 171092.9078308785\n",
      "pixelsmean_5_3 -381054.46875 3810216.0 55929.88049902133\n",
      "pixelsmean_6_0 -149032.203125 3810232.25 55700.208600075974\n",
      "pixelsmean_6_1 -149034.609375 3810206.5 55699.81571524871\n",
      "pixelsmean_6_2 -11725658.0 96.6192398071289 170988.44875748374\n",
      "pixelsmean_6_3 -148973.78125 3810216.0 55700.29178905775\n",
      "pixelsmean_7_0 -202684.921875 3810232.25 55727.69354513383\n",
      "pixelsmean_7_1 -202686.34375 3810206.5 55727.30529196644\n",
      "pixelsmean_7_2 -11725658.0 93.8062515258789 170982.15755976553\n",
      "pixelsmean_7_3 -202649.46875 3810216.0 55727.786527794386\n",
      "pixelsmean_8_0 -141424.109375 3810232.25 55664.701894085636\n",
      "pixelsmean_8_1 -141424.109375 3810206.5 55664.31271753332\n",
      "pixelsmean_8_2 -11725658.0 93.64818572998047 170993.13175326752\n",
      "pixelsmean_8_3 -141424.109375 3810216.0 55664.82622764159\n",
      "pixelsmean_9_0 -141424.109375 3810232.25 55683.2468066629\n",
      "pixelsmean_9_1 -141424.109375 3810206.5 55682.85753636102\n",
      "pixelsmean_9_2 -11725658.0 98.03141021728516 171044.91299266432\n",
      "pixelsmean_9_3 -141424.109375 3810216.0 55683.36881171453\n",
      "pixelsmin_0_0 -381054.46875 3810230.0 55930.85954111036\n",
      "pixelsmin_0_1 -381054.46875 3810188.75 55930.354630262016\n",
      "pixelsmin_0_2 -27262596.0 44.56153869628906 397800.7676237758\n",
      "pixelsmin_0_3 -381054.46875 3810215.75 55930.9310417424\n",
      "pixelsmin_10_0 -141424.109375 3810230.0 55681.29393521859\n",
      "pixelsmin_10_1 -141424.109375 3810188.75 55680.79222990841\n",
      "pixelsmin_10_2 -27262596.0 44.72956848144531 397649.6647943006\n",
      "pixelsmin_10_3 -141424.109375 3810215.75 55681.434039731714\n",
      "pixelsmin_11_0 -141424.109375 3810230.0 55678.253958306384\n",
      "pixelsmin_11_1 -141424.109375 3810188.75 55677.758860814676\n",
      "pixelsmin_11_2 -27262596.0 46.04081344604492 397649.6138636208\n",
      "pixelsmin_11_3 -141424.109375 3810215.75 55678.409904812004\n",
      "pixelsmin_12_0 -141424.109375 3810230.0 55682.61819414232\n",
      "pixelsmin_12_1 -141424.109375 3810188.75 55685.3729765218\n",
      "pixelsmin_12_2 -27262596.0 43.433773040771484 397689.3717048629\n",
      "pixelsmin_12_3 -141424.109375 3810215.75 55682.774023360056\n",
      "pixelsmin_13_0 -141566.140625 3810230.0 55691.74101950277\n",
      "pixelsmin_13_1 -141566.140625 3810188.75 55693.939221114255\n",
      "pixelsmin_13_2 -27262596.0 44.519378662109375 397690.1243299054\n",
      "pixelsmin_13_3 -141566.140625 3810215.75 55691.87683998833\n",
      "pixelsmin_14_0 -325011.9375 3810230.0 55859.769652808136\n",
      "pixelsmin_14_1 -325011.9375 3810188.75 55859.435329741325\n",
      "pixelsmin_14_2 -27262596.0 42.8802490234375 397752.09288572543\n",
      "pixelsmin_14_3 -325011.9375 3810215.75 55886.362470896776\n",
      "pixelsmin_15_0 -673685.0 3810230.0 56469.49716005406\n",
      "pixelsmin_15_1 -973076.6875 3810188.75 57338.46486972219\n",
      "pixelsmin_15_2 -27262596.0 860.392578125 398395.6183558178\n",
      "pixelsmin_15_3 -25354382.0 3810215.75 363298.0284721617\n",
      "pixelsmin_1_0 -381054.46875 3810230.0 55924.93984615103\n",
      "pixelsmin_1_1 -381054.46875 3810188.75 55924.41280538172\n",
      "pixelsmin_1_2 -27262596.0 43.41108703613281 397682.721163541\n",
      "pixelsmin_1_3 -381054.46875 3810215.75 55925.025684971035\n",
      "pixelsmin_2_0 -381054.46875 3810230.0 55902.121271718155\n",
      "pixelsmin_2_1 -381054.46875 3810188.75 55901.579625818755\n",
      "pixelsmin_2_2 -27262596.0 42.71549987792969 397640.85417324665\n",
      "pixelsmin_2_3 -381054.46875 3810215.75 55902.19282169255\n",
      "pixelsmin_3_0 -381054.46875 3810230.0 55902.62969023741\n",
      "pixelsmin_3_1 -381054.46875 3810188.75 55902.11650640819\n",
      "pixelsmin_3_2 -27262596.0 45.24810028076172 397680.28665149445\n",
      "pixelsmin_3_3 -381054.46875 3810215.75 55902.75637076818\n",
      "pixelsmin_4_0 -381054.46875 3810230.0 55931.76513621781\n",
      "pixelsmin_4_1 -381054.46875 3810188.75 55931.30460467025\n",
      "pixelsmin_4_2 -27262596.0 45.190982818603516 397683.9456473889\n"
     ]
    },
    {
     "name": "stdout",
     "output_type": "stream",
     "text": [
      "pixelsmin_4_3 -381054.46875 3810215.75 55931.86471774468\n",
      "pixelsmin_5_0 -381054.46875 3810230.0 55940.178843486996\n",
      "pixelsmin_5_1 -381054.46875 3810188.75 55939.71446762884\n",
      "pixelsmin_5_2 -27262596.0 44.047149658203125 397684.7957754063\n",
      "pixelsmin_5_3 -381054.46875 3810215.75 55940.277676293554\n",
      "pixelsmin_6_0 -381054.46875 3810230.0 55933.0229019842\n",
      "pixelsmin_6_1 -381054.46875 3810188.75 55932.52008606214\n",
      "pixelsmin_6_2 -27262596.0 43.164066314697266 397605.5806487967\n",
      "pixelsmin_6_3 -381054.46875 3810215.75 55933.11799731198\n",
      "pixelsmin_7_0 -400993.875 3810230.0 55948.176242034235\n",
      "pixelsmin_7_1 -400993.875 3810188.75 55947.74100284543\n",
      "pixelsmin_7_2 -27262596.0 44.272125244140625 397569.07115282596\n",
      "pixelsmin_7_3 -400993.875 3810215.75 55948.21135625306\n",
      "pixelsmin_8_0 -141424.109375 3810230.0 55670.12256151689\n",
      "pixelsmin_8_1 -141424.109375 3810188.75 55669.61719342961\n",
      "pixelsmin_8_2 -27262596.0 43.64622497558594 397609.50895128073\n",
      "pixelsmin_8_3 -141424.109375 3810215.75 55670.25366785043\n",
      "pixelsmin_9_0 -141424.109375 3810230.0 55691.668957931586\n",
      "pixelsmin_9_1 -141424.109375 3810188.75 55691.263913607916\n",
      "pixelsmin_9_2 -27262596.0 44.0319709777832 397729.43412497005\n",
      "pixelsmin_9_3 -141424.109375 3810215.75 55691.79917131207\n",
      "posPeaks2std 0.0 859.0 101.37854087601538\n",
      "posPeaks3std 0.0 654.0 13.325598956801477\n",
      "posPeaks5std 0.0 46.0 4.07353264055098\n",
      "windDedispTimeSeriesmax0 -91453072.0 8539.6015625 1346271.0520120445\n",
      "windDedispTimeSeriesmax1 -91453072.0 6964.91455078125 1351139.7269939862\n",
      "windDedispTimeSeriesmax10 -18290240.0 53963424.0 825239.9487667639\n",
      "windDedispTimeSeriesmax11 -18290240.0 54611508.0 827409.043645526\n",
      "windDedispTimeSeriesmax12 -75907512.0 119605456.0 2026851.5846639927\n",
      "windDedispTimeSeriesmax13 -336290304.0 113184760.0 5041646.607267934\n",
      "windDedispTimeSeriesmax14 -622179584.0 112789832.0 8980621.472868083\n",
      "windDedispTimeSeriesmax15 -827159872.0 10842.5244140625 14018031.875926398\n",
      "windDedispTimeSeriesmax2 -91453072.0 7360.76953125 1360578.5777127324\n",
      "windDedispTimeSeriesmax3 -91453072.0 7972.60400390625 1374253.0747693356\n",
      "windDedispTimeSeriesmax4 -72040232.0 86825.421875 1137994.1519783458\n",
      "windDedispTimeSeriesmax5 -43708592.0 967239.1875 793149.0468605391\n",
      "windDedispTimeSeriesmax6 -26669716.0 43453024.0 848699.4266886252\n",
      "windDedispTimeSeriesmax7 -22045180.0 42619860.0 731226.8526014572\n",
      "windDedispTimeSeriesmax8 -18521456.0 48878496.0 789285.0297890564\n",
      "windDedispTimeSeriesmax9 -18290240.0 49380560.0 779213.1231017486\n",
      "windDedispTimeSeriesmean0 -91453064.0 5181.61865234375 1355330.594935459\n",
      "windDedispTimeSeriesmean1 -91453064.0 4667.09912109375 1359469.2956448963\n",
      "windDedispTimeSeriesmean10 -18290240.0 51366912.0 798863.9026789792\n",
      "windDedispTimeSeriesmean11 -18290240.0 1757992.75 308704.5369004552\n",
      "windDedispTimeSeriesmean12 -163538192.0 27179000.0 2367593.3748243866\n",
      "windDedispTimeSeriesmean13 -483284416.0 101795000.0 7018647.106613044\n",
      "windDedispTimeSeriesmean14 -750425152.0 4165.35888671875 10682616.895684768\n",
      "windDedispTimeSeriesmean15 -1564852224.0 4317.8857421875 25846178.423247535\n",
      "windDedispTimeSeriesmean2 -91453064.0 5015.3017578125 1370980.323951054\n",
      "windDedispTimeSeriesmean3 -91453064.0 6935.61083984375 1381656.2815230242\n",
      "windDedispTimeSeriesmean4 -87416992.0 34731.984375 1345145.5681750802\n",
      "windDedispTimeSeriesmean5 -51737276.0 282756.71875 903659.2562469351\n",
      "windDedispTimeSeriesmean6 -30773396.0 30394594.0 771678.7547725941\n",
      "windDedispTimeSeriesmean7 -23774362.0 32565172.0 674383.0630929532\n",
      "windDedispTimeSeriesmean8 -20273122.0 44433836.0 744485.9829357916\n",
      "windDedispTimeSeriesmean9 -18290240.0 48216284.0 774840.8986351766\n",
      "windDedispTimeSeriesmin0 -91453072.0 3706.460205078125 1362883.2280935089\n",
      "windDedispTimeSeriesmin1 -91453072.0 3488.380859375 1372656.6282846194\n",
      "windDedispTimeSeriesmin10 -18290240.0 44350440.0 731026.5010885423\n",
      "windDedispTimeSeriesmin11 -74688640.0 1080527.875 1105900.6036171664\n",
      "windDedispTimeSeriesmin12 -332322912.0 3182.36474609375 4725649.878203053\n",
      "windDedispTimeSeriesmin13 -618832448.0 85967008.0 8877744.821606046\n",
      "windDedispTimeSeriesmin14 -828420096.0 3467.2216796875 13872649.467581972\n",
      "windDedispTimeSeriesmin15 -2763422208.0 3553.66455078125 41718033.62284743\n",
      "windDedispTimeSeriesmin2 -91453072.0 3746.5 1384753.7169527172\n",
      "windDedispTimeSeriesmin3 -91453072.0 6051.5068359375 1389920.798574255\n",
      "windDedispTimeSeriesmin4 -91453072.0 4927.58984375 1403613.5536673195\n",
      "windDedispTimeSeriesmin5 -71513248.0 86751.1328125 1158807.832282309\n",
      "windDedispTimeSeriesmin6 -43700824.0 983059.9375 800284.9167977455\n",
      "windDedispTimeSeriesmin7 -28173574.0 22256054.0 679035.0765065706\n",
      "windDedispTimeSeriesmin8 -22015300.0 37617420.0 679019.7166576578\n",
      "windDedispTimeSeriesmin9 -18482722.0 43555524.0 738432.014225912\n",
      "windDedispTimeSeriessnr0 -13749632.0 23.208261996069034 253232.5432059938\n",
      "windDedispTimeSeriessnr1 -13749632.0 25.573640008425098 253181.7705359621\n",
      "windDedispTimeSeriessnr10 -13749632.0 70.7568119095219 194722.0018110621\n",
      "windDedispTimeSeriessnr11 -13749632.0 83.42307658610962 194721.9990971694\n",
      "windDedispTimeSeriessnr12 -13749632.0 20.127437041762583 194761.06434576507\n",
      "windDedispTimeSeriessnr13 -13749632.0 21.17743693063942 194741.52729024028\n",
      "windDedispTimeSeriessnr14 -13749632.0 23.0265874756203 217985.65523751895\n",
      "windDedispTimeSeriessnr15 -13749632.0 43.35915653071571 217941.91995708994\n",
      "windDedispTimeSeriessnr2 -13749632.0 25.958071759661735 253207.1543965756\n",
      "windDedispTimeSeriessnr3 -13749632.0 24.49677325891283 253181.77178373342\n",
      "windDedispTimeSeriessnr4 -13749632.0 26.143706001922226 194702.48017684455\n",
      "windDedispTimeSeriessnr5 -13749632.0 25.929145412771515 194663.44830688657\n",
      "windDedispTimeSeriessnr6 -13749632.0 23.442421939499372 194643.94035090494\n",
      "windDedispTimeSeriessnr7 -13749632.0 58.40191112436648 194663.44538272725\n",
      "windDedispTimeSeriessnr8 -13749632.0 55.00868664578884 194741.52992468432\n",
      "windDedispTimeSeriessnr9 -13749632.0 32.97013350732927 194761.06654235153\n",
      "windDedispTimeSeriesstd0 0.0 1097347.5 29177.50034452173\n",
      "windDedispTimeSeriesstd1 0.0 2304019.0 40394.47657353281\n",
      "windDedispTimeSeriesstd10 0.0 3601315.0 63909.34707681783\n",
      "windDedispTimeSeriesstd11 0.0 44172428.0 626032.2709303304\n",
      "windDedispTimeSeriesstd12 0.0 76273984.0 1233564.7608758488\n",
      "windDedispTimeSeriesstd13 0.0 76335256.0 1089513.0267191061\n",
      "windDedispTimeSeriesstd14 0.0 180588240.0 2706492.026328238\n",
      "windDedispTimeSeriesstd15 0.0 649447936.0 9236204.318928704\n",
      "windDedispTimeSeriesstd2 0.0 3611191.5 57393.13880098538\n",
      "windDedispTimeSeriesstd3 0.0 1072141.875 18592.41817087348\n",
      "windDedispTimeSeriesstd4 0.0 5983301.0 90728.84137217212\n",
      "windDedispTimeSeriesstd5 0.0 9163994.0 136103.4790189825\n",
      "windDedispTimeSeriesstd6 0.0 11156419.0 183666.07604275076\n",
      "windDedispTimeSeriesstd7 0.0 10946682.0 172797.6359075412\n",
      "windDedispTimeSeriesstd8 0.0 2838168.75 51052.524313822425\n",
      "windDedispTimeSeriesstd9 0.0 3615601.0 61410.955537914306\n",
      "windTimeSeriesmax0 -91453072.0 94.86181640625 1325456.8354725318\n",
      "windTimeSeriesmax1 -91453072.0 262.3088684082031 1321213.1411422787\n",
      "windTimeSeriesmax10 -33941788.0 265.2313537597656 549969.1393988867\n",
      "windTimeSeriesmax11 -33941788.0 238.30093383789062 545898.3711552178\n",
      "windTimeSeriesmax12 -33941788.0 130.9600830078125 553326.944137375\n",
      "windTimeSeriesmax13 -21273512.0 1221632.75 409011.27359900787\n",
      "windTimeSeriesmax14 -18290240.0 6406762.0 294362.7051902252\n",
      "windTimeSeriesmax15 -18290240.0 1069090688.0 15143070.9827103\n",
      "windTimeSeriesmax2 -91453072.0 102.3880615234375 1326304.7028561432\n",
      "windTimeSeriesmax3 -91453072.0 109.416015625 1320892.2031146842\n",
      "windTimeSeriesmax4 -91453072.0 108.86962890625 1320997.6239667882\n",
      "windTimeSeriesmax5 -91453072.0 234.91184997558594 1379001.8005956837\n",
      "windTimeSeriesmax6 -31754250.0 92.052734375 531747.2181681757\n",
      "windTimeSeriesmax7 -33517232.0 105.09326171875 540454.0838815217\n",
      "windTimeSeriesmax8 -33941788.0 91.681396484375 545843.6722797211\n",
      "windTimeSeriesmax9 -33941788.0 110.65997314453125 546933.2168942414\n",
      "windTimeSeriesmean0 -91453064.0 0.9395940899848938 1334580.1573117035\n",
      "windTimeSeriesmean1 -91453064.0 1.4809019565582275 1330767.7227293728\n",
      "windTimeSeriesmean10 -33941788.0 0.6636024713516235 561932.3921037244\n",
      "windTimeSeriesmean11 -33941788.0 0.15113702416419983 553920.3378452392\n",
      "windTimeSeriesmean12 -33941788.0 0.4435504376888275 554373.9282679935\n",
      "windTimeSeriesmean13 -33301734.0 542368.125 548674.2955000493\n",
      "windTimeSeriesmean14 -35534056.0 0.40253618359565735 585344.7410340067\n",
      "windTimeSeriesmean15 -22768912.0 9620921.0 460459.54793769214\n",
      "windTimeSeriesmean2 -91453064.0 0.43854159116744995 1335881.645747581\n",
      "windTimeSeriesmean3 -91453064.0 0.98868727684021 1321404.430596757\n",
      "windTimeSeriesmean4 -91453064.0 0.5650439858436584 1324135.6116734871\n",
      "windTimeSeriesmean5 -91453064.0 0.818953812122345 1399144.9683321791\n",
      "windTimeSeriesmean6 -35763924.0 0.2307591438293457 747627.8499371097\n",
      "windTimeSeriesmean7 -48641672.0 0.40619394183158875 877711.7259844347\n",
      "windTimeSeriesmean8 -33941788.0 0.5454440116882324 546989.2632062597\n",
      "windTimeSeriesmean9 -33941788.0 0.9504614472389221 556750.6456893149\n",
      "windTimeSeriesmin0 -91453072.0 -3.3527612686157227e-08 1360602.6822546143\n",
      "windTimeSeriesmin1 -91453072.0 0.398712158203125 1387974.4942758183\n",
      "windTimeSeriesmin10 -33941788.0 0.1024169921875 599028.7263826483\n",
      "windTimeSeriesmin11 -33941788.0 0.1024169921875 584765.7686971591\n",
      "windTimeSeriesmin12 -33941788.0 0.1024169921875 578646.5837125601\n",
      "windTimeSeriesmin13 -33975872.0 0.1024169921875 625862.3444161507\n",
      "windTimeSeriesmin14 -78002872.0 0.1024169921875 1199345.906983608\n",
      "windTimeSeriesmin15 -1623082112.0 0.1024169921875 22984042.02589193\n",
      "windTimeSeriesmin2 -91453072.0 0.400238037109375 1345097.3394244323\n",
      "windTimeSeriesmin3 -91453072.0 -3.3527612686157227e-08 1333642.2915589476\n",
      "windTimeSeriesmin4 -91453072.0 -5.029141902923584e-08 1401258.4417574909\n",
      "windTimeSeriesmin5 -91453072.0 0.014068603515625 1420220.0110583056\n",
      "windTimeSeriesmin6 -91453072.0 -5.774199962615967e-08 1428923.0205474377\n",
      "windTimeSeriesmin7 -96238544.0 0.0360107421875 1475365.4246460886\n",
      "windTimeSeriesmin8 -33941788.0 0.0360107421875 569960.1367762722\n",
      "windTimeSeriesmin9 -33941788.0 0.0360107421875 595688.511874004\n",
      "windTimeSeriessnr0 -13749632.0 27.47703748122286 253181.73715242377\n",
      "windTimeSeriessnr1 -13749632.0 656.1942330742379 253105.62326478004\n",
      "windTimeSeriessnr10 -13749632.0 22.02278229212701 194643.91875139542\n",
      "windTimeSeriessnr11 -13749632.0 21.605697707338685 194643.918398713\n",
      "windTimeSeriessnr12 -13749632.0 18.30210785809454 194663.42564819983\n",
      "windTimeSeriessnr13 -13749632.0 19.544761066307547 194663.42519573087\n",
      "windTimeSeriessnr14 -13749632.0 22.310177208007048 217854.50457440104\n",
      "windTimeSeriessnr15 -13749632.0 27.62247093376746 217854.5054038084\n",
      "windTimeSeriessnr2 -13749632.0 2338.569215291802 253080.2927883443\n",
      "windTimeSeriessnr3 -13749632.0 17.598137426648663 253105.63375205296\n",
      "windTimeSeriessnr4 -13749632.0 26.81086277267171 253105.63381407043\n",
      "windTimeSeriessnr5 -13749632.0 27.622482252128236 253105.63435739558\n",
      "windTimeSeriessnr6 -13749632.0 19.146508547904197 194604.92313435528\n",
      "windTimeSeriessnr7 -13749632.0 27.043711117351677 194585.43391166342\n"
     ]
    },
    {
     "name": "stdout",
     "output_type": "stream",
     "text": [
      "windTimeSeriessnr8 -13749632.0 25.611976748667438 194624.4178609631\n",
      "windTimeSeriessnr9 -13749632.0 22.094651938668385 194682.93702675184\n",
      "windTimeSeriesstd0 0.0 4439202.5 88023.51882930574\n",
      "windTimeSeriesstd1 0.0 5300118.0 113933.86668287184\n",
      "windTimeSeriesstd10 0.0 4087827.75 77101.49595933857\n",
      "windTimeSeriesstd11 0.0 2355365.75 55524.98120966837\n",
      "windTimeSeriesstd12 0.0 2723339.25 45128.21477505845\n",
      "windTimeSeriesstd13 0.0 2512014.0 72949.27258108607\n",
      "windTimeSeriesstd14 0.0 33454008.0 485414.6034951249\n",
      "windTimeSeriesstd15 0.0 94146336.0 1341679.2270613634\n",
      "windTimeSeriesstd2 0.0 1715027.25 46548.70030322069\n",
      "windTimeSeriesstd3 0.0 3467748.25 54717.35475126467\n",
      "windTimeSeriesstd4 0.0 8996307.0 142119.0131984369\n",
      "windTimeSeriesstd5 0.0 4459537.0 73094.49115304036\n",
      "windTimeSeriesstd6 0.0 42003432.0 602180.0915278017\n",
      "windTimeSeriesstd7 0.0 45288468.0 642239.3756764214\n",
      "windTimeSeriesstd8 0.0 2859810.75 50888.27703065459\n",
      "windTimeSeriesstd9 0.0 3260748.25 76383.45082924946\n",
      "DMrange 0.0 639.79998779297 73.70109582118563\n",
      "DMstd 0.0 211.38446105188194 18.292424130605273\n",
      "DMstdMaxratio 0.0 0.5330666136389144 0.07574453771919973\n",
      "Label 0 11 3.0011506761701296\n",
      "predictLabel -1 -1 0.0\n",
      "relMJDmax 0.0 6.62340025883168e-05 1.3762959329370022e-05\n",
      "relMJDmean -3.218738129362464e-07 5.723360663978383e-05 8.00711887753278e-06\n",
      "relMJDmedian 0.0 6.341200787574053e-05 9.414049409788496e-06\n"
     ]
    }
   ],
   "source": [
    "for col in labelledDf:\n",
    "    if labelledDf[col].dtype == object: print(col, labelledDf[col].min(), labelledDf[col].max())\n",
    "    else: print(col, labelledDf[col].min(), labelledDf[col].max(), labelledDf[col].std())"
   ]
  },
  {
   "cell_type": "markdown",
   "metadata": {},
   "source": [
    "#### Drop features that are not useful"
   ]
  },
  {
   "cell_type": "code",
   "execution_count": 15,
   "metadata": {},
   "outputs": [],
   "source": [
    "featureDf = labelledDf.drop(['Block', 'Label', 'predictLabel'], axis=1)"
   ]
  },
  {
   "cell_type": "markdown",
   "metadata": {},
   "source": [
    "## Pre-processing\n",
    "\n",
    "Prepare the features for model building: outliers (inf, NaN) are replaced, the features are scaled to approximately zero mean, and unity variance."
   ]
  },
  {
   "cell_type": "code",
   "execution_count": 16,
   "metadata": {},
   "outputs": [],
   "source": [
    "import sklearn.preprocessing"
   ]
  },
  {
   "cell_type": "markdown",
   "metadata": {},
   "source": [
    "Convert feature data frame to 2D array of floats"
   ]
  },
  {
   "cell_type": "code",
   "execution_count": 17,
   "metadata": {},
   "outputs": [],
   "source": [
    "featuresArr = featureDf.values.astype('float32')\n",
    "featureNames = list(featureDf.columns.values)\n",
    "preProcLabels = labels.copy()"
   ]
  },
  {
   "cell_type": "code",
   "execution_count": 18,
   "metadata": {},
   "outputs": [
    {
     "name": "stdout",
     "output_type": "stream",
     "text": [
      "NaN values in feature array: []\n"
     ]
    }
   ],
   "source": [
    "featuresArr[featuresArr == -1. * np.inf] = np.nan\n",
    "featuresArr[featuresArr == np.inf] = np.nan\n",
    "print('NaN values in feature array:', featuresArr[featuresArr == np.nan])\n",
    "\n",
    "imp = sklearn.preprocessing.Imputer(strategy='mean').fit(featuresArr)\n",
    "\n",
    "preProcFeats = imp.transform(featuresArr)"
   ]
  },
  {
   "cell_type": "markdown",
   "metadata": {},
   "source": [
    "### Scale Features\n",
    "\n",
    "Robust scaling uses a median filter, this is better for non-Gaussian distributions"
   ]
  },
  {
   "cell_type": "code",
   "execution_count": 19,
   "metadata": {},
   "outputs": [
    {
     "data": {
      "image/png": "[encoded data removed]",
      "text/plain": [
       "<Figure size 864x432 with 1 Axes>"
      ]
     },
     "metadata": {},
     "output_type": "display_data"
    }
   ],
   "source": [
    "rScale = sklearn.preprocessing.RobustScaler().fit(preProcFeats)\n",
    "\n",
    "plt.figure(figsize=(12, 6))\n",
    "plt.loglog(rScale.center_, rScale.scale_, '.')\n",
    "#plt.plot(rScale.center_, rScale.scale_, '.')\n",
    "#for fnid, fName in enumerate(featureNames): plt.text(rScale.center_[fnid], rScale.scale_[fnid], fName)\n",
    "plt.xlabel('Center')\n",
    "plt.ylabel('Scale')\n",
    "\n",
    "preProcFeats = rScale.transform(preProcFeats)"
   ]
  },
  {
   "cell_type": "markdown",
   "metadata": {},
   "source": [
    "## Save the Features and labels arrays"
   ]
  },
  {
   "cell_type": "markdown",
   "metadata": {},
   "source": [
    "#### Save Features array"
   ]
  },
  {
   "cell_type": "code",
   "execution_count": 20,
   "metadata": {},
   "outputs": [],
   "source": [
    "np.save('Arrays/FeatsArray.npy',preProcFeats)\n",
    "np.save('Arrays/LabelsList.npy',preProcLabels)\n",
    "np.save('Arrays/FeatureNames.npy', featureNames)"
   ]
  },
  {
   "cell_type": "code",
   "execution_count": 21,
   "metadata": {},
   "outputs": [
    {
     "data": {
      "text/plain": [
       "array([[-6.0000002e-01, -1.6399999e-01, -9.6144222e-02, ...,\n",
       "         4.2563360e-03,  6.0282260e-02,  2.6973015e-01],\n",
       "       [-6.0000002e-01, -1.6399999e-01, -8.6129196e-02, ...,\n",
       "        -6.7881033e-02, -6.7333467e-02, -4.7355585e-02],\n",
       "       [ 4.0000001e-01,  3.4399998e+00,  1.7786679e+00, ...,\n",
       "        -7.6887906e-02, -8.0826648e-02, -6.8440326e-02],\n",
       "       ...,\n",
       "       [-6.0000002e-01,  5.2000005e-02,  2.6039062e-02, ...,\n",
       "        -6.2841006e-02, -5.5397801e-02, -2.4351511e-02],\n",
       "       [-2.0000000e-01, -2.4399999e-01, -1.0015023e-01, ...,\n",
       "        -5.7882141e-02, -4.4043116e-02, -9.5966546e-04],\n",
       "       [-2.0000000e-01, -2.3999999e-01, -1.2819229e-01, ...,\n",
       "         5.4990876e-02,  2.0422719e-01,  5.0514668e-01]], dtype=float32)"
      ]
     },
     "execution_count": 21,
     "metadata": {},
     "output_type": "execute_result"
    }
   ],
   "source": [
    "np.load('Arrays/FeatsArray.npy')"
   ]
  },
  {
   "cell_type": "code",
   "execution_count": null,
   "metadata": {},
   "outputs": [],
   "source": []
  }
 ],
 "metadata": {
  "kernelspec": {
   "display_name": "Python 3",
   "language": "python",
   "name": "python3"
  },
  "language_info": {
   "codemirror_mode": {
    "name": "ipython",
    "version": 3
   },
   "file_extension": ".py",
   "mimetype": "text/x-python",
   "name": "python",
   "nbconvert_exporter": "python",
   "pygments_lexer": "ipython3",
   "version": "3.6.5"
  }
 },
 "nbformat": 4,
 "nbformat_minor": 2
}
