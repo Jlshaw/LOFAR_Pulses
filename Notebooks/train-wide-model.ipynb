{
 "cells": [
  {
   "cell_type": "markdown",
   "metadata": {},
   "source": [
    "## LOFAR ARTEMIS Pulse (wide feature model) Classifier"
   ]
  },
  {
   "cell_type": "code",
   "execution_count": 1,
   "metadata": {},
   "outputs": [],
   "source": [
    "import numpy as np\n",
    "import pandas as pd\n",
    "import pickle\n",
    "import matplotlib.pyplot as plt\n",
    "import seaborn as sns\n",
    "\n",
    "%matplotlib inline"
   ]
  },
  {
   "cell_type": "markdown",
   "metadata": {},
   "source": [
    "### Training Set Setup"
   ]
  },
  {
   "cell_type": "markdown",
   "metadata": {},
   "source": [
    "#### Load Extracted Features"
   ]
  },
  {
   "cell_type": "code",
   "execution_count": 2,
   "metadata": {},
   "outputs": [],
   "source": [
    "# Path to pickle of training features pandas dataframe\n",
    "BASE_DATA_PATH = '/home/griffin/local/projects/LOFAR_Pulses/Data/' #ASLXLAP07\n",
    "DF_PKL_FILE = 'FeatsDataFrame.pkl'\n",
    "baseBufferPklFile = BASE_DATA_PATH + DF_PKL_FILE"
   ]
  },
  {
   "cell_type": "code",
   "execution_count": 3,
   "metadata": {},
   "outputs": [
    {
     "name": "stdout",
     "output_type": "stream",
     "text": [
      "(4000, 408)\n"
     ]
    }
   ],
   "source": [
    "# load baseBufferPkl\n",
    "df = pd.read_pickle(baseBufferPklFile)\n",
    "\n",
    "# create a label column with 'unlabbled' label\n",
    "df = df.assign(Label=-1)\n",
    "\n",
    "# create a predicted label column with 'unlabelled' label\n",
    "df = df.assign(predictLabel=-1)\n",
    "\n",
    "print(df.shape)"
   ]
  },
  {
   "cell_type": "code",
   "execution_count": 4,
   "metadata": {},
   "outputs": [
    {
     "name": "stdout",
     "output_type": "stream",
     "text": [
      "              Beam       BestDM        Block        DMmax       DMmean  \\\n",
      "count  4000.000000  4000.000000  4000.000000  4000.000000  4000.000000   \n",
      "mean      4.423750    42.253101    25.737750    59.117025    43.424814   \n",
      "std       2.356708    81.495334    56.213886   104.067764    79.416322   \n",
      "min       1.000000     0.100000     1.000000     0.100000     0.100000   \n",
      "25%       2.000000     2.500000     2.000000     3.000000     2.042230   \n",
      "50%       4.000000     9.000000     8.000000     9.800000     9.150000   \n",
      "75%       7.000000    28.650001    28.000000    54.150002    37.424268   \n",
      "max       8.000000   631.400024  1011.000000   639.799988   503.154722   \n",
      "\n",
      "          DMmedian        DMmin        Events  GaussianTestsksD  \\\n",
      "count  4000.000000  4000.000000  4.000000e+03       3970.000000   \n",
      "mean     43.435413    27.051525  8.267112e+03          0.162154   \n",
      "std      80.883400    58.809988  8.001675e+04          0.169902   \n",
      "min       0.100000     0.000000  4.000000e+00          0.005282   \n",
      "25%       1.737500     0.800000  1.300000e+01          0.025208   \n",
      "50%       9.100000     4.600000  4.000000e+01          0.074619   \n",
      "75%      34.875000    14.200000  1.930000e+02          0.271790   \n",
      "max     619.000000   317.800018  3.026132e+06          0.540617   \n",
      "\n",
      "       GaussianTestskspvalue  ...  windTimeSeriesstd2  windTimeSeriesstd3  \\\n",
      "count           3.970000e+03  ...        3.993000e+03        3.992000e+03   \n",
      "mean            1.713430e-01  ...        2.371821e+03        1.760420e+03   \n",
      "std             3.100138e-01  ...        4.406341e+04        5.747667e+04   \n",
      "min             0.000000e+00  ...        0.000000e+00        0.000000e+00   \n",
      "25%             0.000000e+00  ...        3.175222e+00        3.311795e+00   \n",
      "50%             2.649799e-10  ...        9.834846e+00        1.012318e+01   \n",
      "75%             1.755772e-01  ...        3.130004e+01        3.211549e+01   \n",
      "max             9.999994e-01  ...        1.349333e+06        3.467748e+06   \n",
      "\n",
      "       windTimeSeriesstd4  windTimeSeriesstd5  windTimeSeriesstd6  \\\n",
      "count        3.991000e+03        3.994000e+03        3.995000e+03   \n",
      "mean         4.432498e+03        2.957327e+03        1.416954e+04   \n",
      "std          1.586643e+05        8.090165e+04        6.730986e+05   \n",
      "min          0.000000e+00        0.000000e+00        0.000000e+00   \n",
      "25%          3.217269e+00        3.221425e+00        3.185711e+00   \n",
      "50%          1.019069e+01        9.994318e+00        1.007283e+01   \n",
      "75%          3.172594e+01        3.247455e+01        3.248328e+01   \n",
      "max          8.996307e+06        4.459537e+06        4.200343e+07   \n",
      "\n",
      "       windTimeSeriesstd7  windTimeSeriesstd8  windTimeSeriesstd9   Label  \\\n",
      "count        3.995000e+03        3.993000e+03        3.991000e+03  4000.0   \n",
      "mean         1.290581e+04        2.262530e+03        3.730564e+03    -1.0   \n",
      "std          7.179086e+05        5.675248e+04        8.527964e+04     0.0   \n",
      "min          0.000000e+00        0.000000e+00        0.000000e+00    -1.0   \n",
      "25%          3.132273e+00        3.178314e+00        3.183643e+00    -1.0   \n",
      "50%          1.005986e+01        1.003307e+01        1.005380e+01    -1.0   \n",
      "75%          3.292450e+01        3.254552e+01        3.184384e+01    -1.0   \n",
      "max          4.528847e+07        2.859811e+06        3.260748e+06    -1.0   \n",
      "\n",
      "       predictLabel  \n",
      "count        4000.0  \n",
      "mean           -1.0  \n",
      "std             0.0  \n",
      "min            -1.0  \n",
      "25%            -1.0  \n",
      "50%            -1.0  \n",
      "75%            -1.0  \n",
      "max            -1.0  \n",
      "\n",
      "[8 rows x 408 columns]\n",
      "['Beam' 'BestDM' 'Block' 'DMmax' 'DMmean' 'DMmedian' 'DMmin' 'Events'\n",
      " 'GaussianTestsksD' 'GaussianTestskspvalue' 'GaussianTestskurtosis'\n",
      " 'GaussianTestsskew' 'MJDStart' 'MJDmax' 'MJDmean' 'MJDmedian' 'MJDmin'\n",
      " 'MJDstd' 'MaxSNR' 'SNRmean' 'SNRmedian' 'SNRmin' 'SNRstd' 'binFactor'\n",
      " 'globalDedispTimeStatsmax' 'globalDedispTimeStatsmean'\n",
      " 'globalDedispTimeStatsmeanMedianRatio' 'globalDedispTimeStatsmedian'\n",
      " 'globalDedispTimeStatsmin' 'globalDedispTimeStatsminMaxRatio'\n",
      " 'globalDedispTimeStatsnegCount' 'globalDedispTimeStatsnegPct'\n",
      " 'globalDedispTimeStatsposCount' 'globalDedispTimeStatsposPct'\n",
      " 'globalDedispTimeStatsstd' 'globalTimeStatsmax' 'globalTimeStatsmean'\n",
      " 'globalTimeStatsmeanMedianRatio' 'globalTimeStatsmedian'\n",
      " 'globalTimeStatsmin' 'globalTimeStatsminMaxRatio'\n",
      " 'globalTimeStatsnegCount' 'globalTimeStatsnegPct'\n",
      " 'globalTimeStatsposCount' 'globalTimeStatsposPct' 'globalTimeStatsstd'\n",
      " 'negPeaks2std' 'negPeaks3std' 'negPeaks5std' 'overflowCounts'\n",
      " 'overflowPct' 'pixelsmax_0_0' 'pixelsmax_0_1' 'pixelsmax_0_2'\n",
      " 'pixelsmax_0_3' 'pixelsmax_10_0' 'pixelsmax_10_1' 'pixelsmax_10_2'\n",
      " 'pixelsmax_10_3' 'pixelsmax_11_0' 'pixelsmax_11_1' 'pixelsmax_11_2'\n",
      " 'pixelsmax_11_3' 'pixelsmax_12_0' 'pixelsmax_12_1' 'pixelsmax_12_2'\n",
      " 'pixelsmax_12_3' 'pixelsmax_13_0' 'pixelsmax_13_1' 'pixelsmax_13_2'\n",
      " 'pixelsmax_13_3' 'pixelsmax_14_0' 'pixelsmax_14_1' 'pixelsmax_14_2'\n",
      " 'pixelsmax_14_3' 'pixelsmax_15_0' 'pixelsmax_15_1' 'pixelsmax_15_2'\n",
      " 'pixelsmax_15_3' 'pixelsmax_1_0' 'pixelsmax_1_1' 'pixelsmax_1_2'\n",
      " 'pixelsmax_1_3' 'pixelsmax_2_0' 'pixelsmax_2_1' 'pixelsmax_2_2'\n",
      " 'pixelsmax_2_3' 'pixelsmax_3_0' 'pixelsmax_3_1' 'pixelsmax_3_2'\n",
      " 'pixelsmax_3_3' 'pixelsmax_4_0' 'pixelsmax_4_1' 'pixelsmax_4_2'\n",
      " 'pixelsmax_4_3' 'pixelsmax_5_0' 'pixelsmax_5_1' 'pixelsmax_5_2'\n",
      " 'pixelsmax_5_3' 'pixelsmax_6_0' 'pixelsmax_6_1' 'pixelsmax_6_2'\n",
      " 'pixelsmax_6_3' 'pixelsmax_7_0' 'pixelsmax_7_1' 'pixelsmax_7_2'\n",
      " 'pixelsmax_7_3' 'pixelsmax_8_0' 'pixelsmax_8_1' 'pixelsmax_8_2'\n",
      " 'pixelsmax_8_3' 'pixelsmax_9_0' 'pixelsmax_9_1' 'pixelsmax_9_2'\n",
      " 'pixelsmax_9_3' 'pixelsmean_0_0' 'pixelsmean_0_1' 'pixelsmean_0_2'\n",
      " 'pixelsmean_0_3' 'pixelsmean_10_0' 'pixelsmean_10_1' 'pixelsmean_10_2'\n",
      " 'pixelsmean_10_3' 'pixelsmean_11_0' 'pixelsmean_11_1' 'pixelsmean_11_2'\n",
      " 'pixelsmean_11_3' 'pixelsmean_12_0' 'pixelsmean_12_1' 'pixelsmean_12_2'\n",
      " 'pixelsmean_12_3' 'pixelsmean_13_0' 'pixelsmean_13_1' 'pixelsmean_13_2'\n",
      " 'pixelsmean_13_3' 'pixelsmean_14_0' 'pixelsmean_14_1' 'pixelsmean_14_2'\n",
      " 'pixelsmean_14_3' 'pixelsmean_15_0' 'pixelsmean_15_1' 'pixelsmean_15_2'\n",
      " 'pixelsmean_15_3' 'pixelsmean_1_0' 'pixelsmean_1_1' 'pixelsmean_1_2'\n",
      " 'pixelsmean_1_3' 'pixelsmean_2_0' 'pixelsmean_2_1' 'pixelsmean_2_2'\n",
      " 'pixelsmean_2_3' 'pixelsmean_3_0' 'pixelsmean_3_1' 'pixelsmean_3_2'\n",
      " 'pixelsmean_3_3' 'pixelsmean_4_0' 'pixelsmean_4_1' 'pixelsmean_4_2'\n",
      " 'pixelsmean_4_3' 'pixelsmean_5_0' 'pixelsmean_5_1' 'pixelsmean_5_2'\n",
      " 'pixelsmean_5_3' 'pixelsmean_6_0' 'pixelsmean_6_1' 'pixelsmean_6_2'\n",
      " 'pixelsmean_6_3' 'pixelsmean_7_0' 'pixelsmean_7_1' 'pixelsmean_7_2'\n",
      " 'pixelsmean_7_3' 'pixelsmean_8_0' 'pixelsmean_8_1' 'pixelsmean_8_2'\n",
      " 'pixelsmean_8_3' 'pixelsmean_9_0' 'pixelsmean_9_1' 'pixelsmean_9_2'\n",
      " 'pixelsmean_9_3' 'pixelsmin_0_0' 'pixelsmin_0_1' 'pixelsmin_0_2'\n",
      " 'pixelsmin_0_3' 'pixelsmin_10_0' 'pixelsmin_10_1' 'pixelsmin_10_2'\n",
      " 'pixelsmin_10_3' 'pixelsmin_11_0' 'pixelsmin_11_1' 'pixelsmin_11_2'\n",
      " 'pixelsmin_11_3' 'pixelsmin_12_0' 'pixelsmin_12_1' 'pixelsmin_12_2'\n",
      " 'pixelsmin_12_3' 'pixelsmin_13_0' 'pixelsmin_13_1' 'pixelsmin_13_2'\n",
      " 'pixelsmin_13_3' 'pixelsmin_14_0' 'pixelsmin_14_1' 'pixelsmin_14_2'\n",
      " 'pixelsmin_14_3' 'pixelsmin_15_0' 'pixelsmin_15_1' 'pixelsmin_15_2'\n",
      " 'pixelsmin_15_3' 'pixelsmin_1_0' 'pixelsmin_1_1' 'pixelsmin_1_2'\n",
      " 'pixelsmin_1_3' 'pixelsmin_2_0' 'pixelsmin_2_1' 'pixelsmin_2_2'\n",
      " 'pixelsmin_2_3' 'pixelsmin_3_0' 'pixelsmin_3_1' 'pixelsmin_3_2'\n",
      " 'pixelsmin_3_3' 'pixelsmin_4_0' 'pixelsmin_4_1' 'pixelsmin_4_2'\n",
      " 'pixelsmin_4_3' 'pixelsmin_5_0' 'pixelsmin_5_1' 'pixelsmin_5_2'\n",
      " 'pixelsmin_5_3' 'pixelsmin_6_0' 'pixelsmin_6_1' 'pixelsmin_6_2'\n",
      " 'pixelsmin_6_3' 'pixelsmin_7_0' 'pixelsmin_7_1' 'pixelsmin_7_2'\n",
      " 'pixelsmin_7_3' 'pixelsmin_8_0' 'pixelsmin_8_1' 'pixelsmin_8_2'\n",
      " 'pixelsmin_8_3' 'pixelsmin_9_0' 'pixelsmin_9_1' 'pixelsmin_9_2'\n",
      " 'pixelsmin_9_3' 'posPeaks2std' 'posPeaks3std' 'posPeaks5std'\n",
      " 'windDedispTimeSeriesmax0' 'windDedispTimeSeriesmax1'\n",
      " 'windDedispTimeSeriesmax10' 'windDedispTimeSeriesmax11'\n",
      " 'windDedispTimeSeriesmax12' 'windDedispTimeSeriesmax13'\n",
      " 'windDedispTimeSeriesmax14' 'windDedispTimeSeriesmax15'\n",
      " 'windDedispTimeSeriesmax2' 'windDedispTimeSeriesmax3'\n",
      " 'windDedispTimeSeriesmax4' 'windDedispTimeSeriesmax5'\n",
      " 'windDedispTimeSeriesmax6' 'windDedispTimeSeriesmax7'\n",
      " 'windDedispTimeSeriesmax8' 'windDedispTimeSeriesmax9'\n",
      " 'windDedispTimeSeriesmean0' 'windDedispTimeSeriesmean1'\n",
      " 'windDedispTimeSeriesmean10' 'windDedispTimeSeriesmean11'\n",
      " 'windDedispTimeSeriesmean12' 'windDedispTimeSeriesmean13'\n",
      " 'windDedispTimeSeriesmean14' 'windDedispTimeSeriesmean15'\n",
      " 'windDedispTimeSeriesmean2' 'windDedispTimeSeriesmean3'\n",
      " 'windDedispTimeSeriesmean4' 'windDedispTimeSeriesmean5'\n",
      " 'windDedispTimeSeriesmean6' 'windDedispTimeSeriesmean7'\n",
      " 'windDedispTimeSeriesmean8' 'windDedispTimeSeriesmean9'\n",
      " 'windDedispTimeSeriesmin0' 'windDedispTimeSeriesmin1'\n",
      " 'windDedispTimeSeriesmin10' 'windDedispTimeSeriesmin11'\n",
      " 'windDedispTimeSeriesmin12' 'windDedispTimeSeriesmin13'\n",
      " 'windDedispTimeSeriesmin14' 'windDedispTimeSeriesmin15'\n",
      " 'windDedispTimeSeriesmin2' 'windDedispTimeSeriesmin3'\n",
      " 'windDedispTimeSeriesmin4' 'windDedispTimeSeriesmin5'\n",
      " 'windDedispTimeSeriesmin6' 'windDedispTimeSeriesmin7'\n",
      " 'windDedispTimeSeriesmin8' 'windDedispTimeSeriesmin9'\n",
      " 'windDedispTimeSeriessnr0' 'windDedispTimeSeriessnr1'\n",
      " 'windDedispTimeSeriessnr10' 'windDedispTimeSeriessnr11'\n",
      " 'windDedispTimeSeriessnr12' 'windDedispTimeSeriessnr13'\n",
      " 'windDedispTimeSeriessnr14' 'windDedispTimeSeriessnr15'\n",
      " 'windDedispTimeSeriessnr2' 'windDedispTimeSeriessnr3'\n",
      " 'windDedispTimeSeriessnr4' 'windDedispTimeSeriessnr5'\n",
      " 'windDedispTimeSeriessnr6' 'windDedispTimeSeriessnr7'\n",
      " 'windDedispTimeSeriessnr8' 'windDedispTimeSeriessnr9'\n",
      " 'windDedispTimeSeriesstd0' 'windDedispTimeSeriesstd1'\n",
      " 'windDedispTimeSeriesstd10' 'windDedispTimeSeriesstd11'\n",
      " 'windDedispTimeSeriesstd12' 'windDedispTimeSeriesstd13'\n",
      " 'windDedispTimeSeriesstd14' 'windDedispTimeSeriesstd15'\n",
      " 'windDedispTimeSeriesstd2' 'windDedispTimeSeriesstd3'\n",
      " 'windDedispTimeSeriesstd4' 'windDedispTimeSeriesstd5'\n",
      " 'windDedispTimeSeriesstd6' 'windDedispTimeSeriesstd7'\n",
      " 'windDedispTimeSeriesstd8' 'windDedispTimeSeriesstd9'\n",
      " 'windTimeSeriesmax0' 'windTimeSeriesmax1' 'windTimeSeriesmax10'\n",
      " 'windTimeSeriesmax11' 'windTimeSeriesmax12' 'windTimeSeriesmax13'\n",
      " 'windTimeSeriesmax14' 'windTimeSeriesmax15' 'windTimeSeriesmax2'\n",
      " 'windTimeSeriesmax3' 'windTimeSeriesmax4' 'windTimeSeriesmax5'\n",
      " 'windTimeSeriesmax6' 'windTimeSeriesmax7' 'windTimeSeriesmax8'\n",
      " 'windTimeSeriesmax9' 'windTimeSeriesmean0' 'windTimeSeriesmean1'\n",
      " 'windTimeSeriesmean10' 'windTimeSeriesmean11' 'windTimeSeriesmean12'\n",
      " 'windTimeSeriesmean13' 'windTimeSeriesmean14' 'windTimeSeriesmean15'\n",
      " 'windTimeSeriesmean2' 'windTimeSeriesmean3' 'windTimeSeriesmean4'\n",
      " 'windTimeSeriesmean5' 'windTimeSeriesmean6' 'windTimeSeriesmean7'\n",
      " 'windTimeSeriesmean8' 'windTimeSeriesmean9' 'windTimeSeriesmin0'\n",
      " 'windTimeSeriesmin1' 'windTimeSeriesmin10' 'windTimeSeriesmin11'\n",
      " 'windTimeSeriesmin12' 'windTimeSeriesmin13' 'windTimeSeriesmin14'\n",
      " 'windTimeSeriesmin15' 'windTimeSeriesmin2' 'windTimeSeriesmin3'\n",
      " 'windTimeSeriesmin4' 'windTimeSeriesmin5' 'windTimeSeriesmin6'\n",
      " 'windTimeSeriesmin7' 'windTimeSeriesmin8' 'windTimeSeriesmin9'\n",
      " 'windTimeSeriessnr0' 'windTimeSeriessnr1' 'windTimeSeriessnr10'\n",
      " 'windTimeSeriessnr11' 'windTimeSeriessnr12' 'windTimeSeriessnr13'\n",
      " 'windTimeSeriessnr14' 'windTimeSeriessnr15' 'windTimeSeriessnr2'\n",
      " 'windTimeSeriessnr3' 'windTimeSeriessnr4' 'windTimeSeriessnr5'\n",
      " 'windTimeSeriessnr6' 'windTimeSeriessnr7' 'windTimeSeriessnr8'\n",
      " 'windTimeSeriessnr9' 'windTimeSeriesstd0' 'windTimeSeriesstd1'\n",
      " 'windTimeSeriesstd10' 'windTimeSeriesstd11' 'windTimeSeriesstd12'\n",
      " 'windTimeSeriesstd13' 'windTimeSeriesstd14' 'windTimeSeriesstd15'\n",
      " 'windTimeSeriesstd2' 'windTimeSeriesstd3' 'windTimeSeriesstd4'\n",
      " 'windTimeSeriesstd5' 'windTimeSeriesstd6' 'windTimeSeriesstd7'\n",
      " 'windTimeSeriesstd8' 'windTimeSeriesstd9' 'Label' 'predictLabel']\n"
     ]
    }
   ],
   "source": [
    "print(df.describe())\n",
    "print(df.columns.values)"
   ]
  },
  {
   "cell_type": "markdown",
   "metadata": {},
   "source": [
    "#### Add Labels"
   ]
  },
  {
   "cell_type": "code",
   "execution_count": 5,
   "metadata": {},
   "outputs": [
    {
     "name": "stdout",
     "output_type": "stream",
     "text": [
      "Number of lables: 4000\n",
      "Unique set of labels: {'9', '3', 'a', '5', 's', '0', '8', '1', '6', '7', '4', '2'}\n"
     ]
    }
   ],
   "source": [
    "LABEL_PKL_FILE = 'artemisLabels_Set2_Jamie.pkl'\n",
    "labelDict = pickle.load(open(BASE_DATA_PATH + LABEL_PKL_FILE, 'rb'))\n",
    "print('Number of lables:', len(labelDict))\n",
    "print('Unique set of labels:', set(labelDict.values()))"
   ]
  },
  {
   "cell_type": "code",
   "execution_count": 6,
   "metadata": {},
   "outputs": [],
   "source": [
    "# Label string to integer map\n",
    "labelStr2IntDict = {'0':0, '1':1, '2':2, '3':3, '4':4, '5':5, '6':6, '7':7, '8':8, '9':9,\n",
    "                    'a':10, 's':11}\n",
    "\n",
    "for key,val in labelDict.items():\n",
    "    df.loc[key, 'Label'] = labelStr2IntDict[val]"
   ]
  },
  {
   "cell_type": "markdown",
   "metadata": {},
   "source": [
    "#### Labels\n",
    "\n",
    "* 0 : Interesting, follow up\n",
    "* 1 : \n",
    "* 2 : \n",
    "* 3 : \n",
    "* 4 : \n",
    "* 5 : \n",
    "* 6 : \n",
    "* 7 : \n",
    "* 8 : \n",
    "* 9 : \n",
    "* 10 : \n",
    "* 11 : "
   ]
  },
  {
   "cell_type": "code",
   "execution_count": 7,
   "metadata": {},
   "outputs": [
    {
     "name": "stdout",
     "output_type": "stream",
     "text": [
      "10    1164\n",
      "9     1033\n",
      "4      372\n",
      "3      293\n",
      "2      220\n",
      "7      213\n",
      "11     200\n",
      "5      178\n",
      "6      117\n",
      "8       87\n",
      "0       70\n",
      "1       53\n",
      "Name: Label, dtype: int64\n"
     ]
    }
   ],
   "source": [
    "print(df['Label'].value_counts()) # label counts"
   ]
  },
  {
   "cell_type": "code",
   "execution_count": 8,
   "metadata": {},
   "outputs": [
    {
     "data": {
      "text/plain": [
       "array([[<matplotlib.axes._subplots.AxesSubplot object at 0x7f0b2b05b048>]],\n",
       "      dtype=object)"
      ]
     },
     "execution_count": 8,
     "metadata": {},
     "output_type": "execute_result"
    },
    {
     "data": {
      "image/png": "[encoded data removed]",
      "text/plain": [
       "<Figure size 432x288 with 1 Axes>"
      ]
     },
     "metadata": {
      "needs_background": "light"
     },
     "output_type": "display_data"
    }
   ],
   "source": [
    "df.hist('Label', bins=len(df['Label'].unique()))"
   ]
  },
  {
   "cell_type": "markdown",
   "metadata": {},
   "source": [
    "#### Compute MJD Features\n",
    "\n",
    "We don't care about the absolute MJDs, but the relative offset within the dataset."
   ]
  },
  {
   "cell_type": "code",
   "execution_count": 9,
   "metadata": {},
   "outputs": [
    {
     "name": "stderr",
     "output_type": "stream",
     "text": [
      "/home/griffin/.local/lib/python3.5/site-packages/pandas/core/computation/check.py:19: UserWarning: The installed version of numexpr 2.4.3 is not supported in pandas and will be not be used\n",
      "The minimum supported version is 2.6.1\n",
      "\n",
      "  ver=ver, min_ver=_MIN_NUMEXPR_VERSION), UserWarning)\n"
     ]
    }
   ],
   "source": [
    "df['relMJDmax'] = df['MJDmax'] - df['MJDmin']\n",
    "df['relMJDmean'] = df['MJDmean'] - df['MJDmin']\n",
    "df['relMJDmedian'] = df['MJDmedian'] - df['MJDmin']"
   ]
  },
  {
   "cell_type": "markdown",
   "metadata": {},
   "source": [
    "#### Filter for only labelled data (i.e. Label > -1)"
   ]
  },
  {
   "cell_type": "code",
   "execution_count": 10,
   "metadata": {},
   "outputs": [],
   "source": [
    "labelledDf = df[df['Label'] > -1].copy()"
   ]
  },
  {
   "cell_type": "markdown",
   "metadata": {},
   "source": [
    "#### Select out the labels"
   ]
  },
  {
   "cell_type": "code",
   "execution_count": 11,
   "metadata": {},
   "outputs": [],
   "source": [
    "labels = labelledDf['Label'].values"
   ]
  },
  {
   "cell_type": "markdown",
   "metadata": {},
   "source": [
    "#### Sanity check\n",
    "\n",
    "Make sure the features don't have extreme values"
   ]
  },
  {
   "cell_type": "code",
   "execution_count": 12,
   "metadata": {},
   "outputs": [
    {
     "name": "stdout",
     "output_type": "stream",
     "text": [
      "Beam 1 8 2.3567083943742446\n",
      "BestDM 0.10000000149012 631.40002441406 81.49533362583011\n",
      "Block 1 1011 56.21388596406848\n",
      "DMmax 0.10000000149011999 639.79998779297 104.0677640961884\n",
      "DMmean 0.10000000149011999 503.15472229242846 79.41632233410542\n",
      "DMmedian 0.10000000149011999 619.0 80.88339978354475\n",
      "DMmin 0.0 317.80001831055 58.80998766791617\n",
      "Events 4 3026132 80016.7493272432\n",
      "GaussianTestsksD 0.0052822115053891006 0.5406166487063576 0.16990227134086602\n",
      "GaussianTestskspvalue 0.0 0.9999994330958465 0.31001376257865254\n",
      "GaussianTestskurtosis -3.0 24409.000587580922 888.4496739066888\n",
      "GaussianTestsskew -156.24020385742188 77.1719970703125 12.32963585990604\n",
      "MJDStart 16767.498375356998 58202.037565258 2513.9588117647304\n",
      "MJDmax 16767.49838992 58202.037590077 2513.9588129587873\n",
      "MJDmean 16767.49838331881 58202.037589989784 2513.958813039324\n",
      "MJDmedian 16767.498389192 58202.03759001599 2513.9588130125626\n",
      "MJDmin 16767.498376813 58202.037589812004 2513.958812876995\n",
      "MJDstd 0.0 3.0286356403652448e-05 4.6232144607873065e-06\n",
      "MaxSNR 0.20000000298023 9614019.0 153319.94706930435\n",
      "SNRmean 8.339529752731325 1776637.6589789947 28375.99354428942\n",
      "SNRmedian 8.2189064025879 1554596.375 24840.160962386988\n",
      "SNRmin 0.0 21896.291015625 346.05437948965414\n",
      "SNRstd 0.003032176907311099 1421263.9520924122 22671.96263654625\n",
      "binFactor 1 64 23.608706438354965\n",
      "globalDedispTimeStatsmax -18290240.0 119605456.0 2107513.833120904\n",
      "globalDedispTimeStatsmean -135787536.0 1544.7789306640625 2784348.7448058715\n",
      "globalDedispTimeStatsmeanMedianRatio 8.662832260597497e-05 582122560.0 9921510.19573928\n",
      "globalDedispTimeStatsmedian -20043848.0 8721.005859375 524166.17385356594\n",
      "globalDedispTimeStatsmin -2905558016.0 -11.921437610806606 48916976.703357264\n",
      "globalDedispTimeStatsminMaxRatio 3.0068867999943905e-05 248.61627197265625 4.517846064964557\n",
      "globalDedispTimeStatsnegCount 0 12434 2390.8944167168324\n",
      "globalDedispTimeStatsnegPct 0.0 0.9028871391076115 0.09817091854081694\n",
      "globalDedispTimeStatsposCount 0 24100 2561.9965055781495\n",
      "globalDedispTimeStatsposPct 0.0 0.9937331039567461 0.09907022111681672\n",
      "globalDedispTimeStatsstd 0.0 445093088.0 8586461.55469335\n",
      "globalTimeStatsmax -18290240.0 3921890304.0 64488431.96138053\n",
      "globalTimeStatsmean -41667052.0 1562980.375 786869.355892421\n",
      "globalTimeStatsmeanMedianRatio 0.0 1366393749504.0 21678968256.361015\n",
      "globalTimeStatsmedian -31516074.0 0.598672537308176 578195.3861998899\n",
      "globalTimeStatsmin -1862995712.0 -3.2629815447826616e-05 39231286.62773903\n",
      "globalTimeStatsminMaxRatio 0.0 336591912960.0 5340038581.206794\n",
      "globalTimeStatsnegCount 0 24171 2505.698052673093\n",
      "globalTimeStatsnegPct 0.0 0.9998361595805685 0.17175860506149174\n",
      "globalTimeStatsposCount 0 24412 2790.1402772996025\n",
      "globalTimeStatsposPct 0.0 0.9999180797902842 0.17592647860428445\n",
      "globalTimeStatsstd 0.0 111384856.0 1964414.1150851164\n",
      "negPeaks2std 0.0 4288.0 166.2713170505317\n",
      "negPeaks3std 0.0 1181.0 49.11527007332948\n",
      "negPeaks5std 0.0 300.0 12.871583320022873\n",
      "overflowCounts 0 6054672 138029.44831211818\n",
      "overflowPct 0.0 1.0 0.03601067566159811\n",
      "pixelsmax_0_0 -381054.46875 3810234.5 62502.35135286644\n",
      "pixelsmax_0_1 -381054.46875 3810224.5 62502.02955782005\n",
      "pixelsmax_0_2 -381054.46875 3810226.5 62502.42124047932\n",
      "pixelsmax_0_3 -381054.46875 3810216.5 62502.45268546863\n",
      "pixelsmax_10_0 -141424.109375 3810234.5 62240.317575693814\n",
      "pixelsmax_10_1 -141424.109375 3810224.5 62239.98277499898\n",
      "pixelsmax_10_2 -141424.109375 3810226.5 62240.39573571544\n",
      "pixelsmax_10_3 -141424.109375 3810216.5 62240.43330631952\n",
      "pixelsmax_11_0 -141424.109375 3810234.5 62239.45485019015\n",
      "pixelsmax_11_1 -141424.109375 3810224.5 62239.12193456307\n",
      "pixelsmax_11_2 -141424.109375 3810226.5 62239.52696581779\n",
      "pixelsmax_11_3 -141424.109375 3810216.5 62239.567475474265\n",
      "pixelsmax_12_0 -141424.109375 3810234.5 62239.48728229711\n",
      "pixelsmax_12_1 -141424.109375 3810224.5 62239.113701727205\n",
      "pixelsmax_12_2 -141424.109375 3810226.5 62239.5560266277\n",
      "pixelsmax_12_3 -141424.109375 3810216.5 62239.597445942236\n",
      "pixelsmax_13_0 -88627.953125 3810234.5 62214.78820752124\n",
      "pixelsmax_13_1 -88623.0625 3810224.5 62214.42954133056\n",
      "pixelsmax_13_2 -88609.15625 3810226.5 62214.85421405804\n",
      "pixelsmax_13_3 -88622.4375 3810216.5 62214.901372820554\n",
      "pixelsmax_14_0 -11528.576171875 3810234.5 62212.35671690516\n",
      "pixelsmax_14_1 -11528.423828125 3810224.5 62212.02964014464\n",
      "pixelsmax_14_2 -11530.9951171875 3810226.5 62211.76595290201\n",
      "pixelsmax_14_3 -11533.30078125 3810216.5 62206.7659878073\n",
      "pixelsmax_15_0 -12476.423828125 6455734.5 119639.47196788304\n",
      "pixelsmax_15_1 -12480.16015625 6458492.0 119676.61964354872\n",
      "pixelsmax_15_2 -12480.8154296875 6196621.0 116155.82832560508\n",
      "pixelsmax_15_3 -33569.8671875 3810216.5 62232.517051284674\n",
      "pixelsmax_1_0 -381054.46875 3810234.5 62484.84745982592\n",
      "pixelsmax_1_1 -381054.46875 3810224.5 62484.512667341354\n",
      "pixelsmax_1_2 -381054.46875 3810226.5 62484.88877994057\n",
      "pixelsmax_1_3 -381054.46875 3810216.5 62484.91732989663\n",
      "pixelsmax_2_0 -381054.46875 3810234.5 62487.309894563914\n",
      "pixelsmax_2_1 -381054.46875 3810224.5 62487.01874036389\n",
      "pixelsmax_2_2 -381054.46875 3810226.5 62487.39723430283\n",
      "pixelsmax_2_3 -381054.46875 3810216.5 62487.41786566311\n",
      "pixelsmax_3_0 -381054.46875 3810234.5 62492.39967550739\n",
      "pixelsmax_3_1 -381054.46875 3810224.5 62492.11053499091\n",
      "pixelsmax_3_2 -381054.46875 3810226.5 62492.47997666196\n",
      "pixelsmax_3_3 -381054.46875 3810216.5 62492.51424693059\n",
      "pixelsmax_4_0 -381054.46875 3810234.5 62500.2713222508\n",
      "pixelsmax_4_1 -381054.46875 3810224.5 62499.97283016743\n",
      "pixelsmax_4_2 -381054.46875 3810226.5 62500.368004769145\n",
      "pixelsmax_4_3 -381054.46875 3810216.5 62500.39400944045\n",
      "pixelsmax_5_0 -381054.46875 3810234.5 62504.61864003885\n",
      "pixelsmax_5_1 -381054.46875 3810224.5 62504.29767744806\n",
      "pixelsmax_5_2 -381054.46875 3810226.5 62504.71016075731\n",
      "pixelsmax_5_3 -381054.46875 3810216.5 62504.73051127291\n",
      "pixelsmax_6_0 -132309.375 3810234.5 62213.363213840625\n",
      "pixelsmax_6_1 -132309.375 3810224.5 62213.04594236849\n",
      "pixelsmax_6_2 -132309.375 3810226.5 62213.45946959979\n",
      "pixelsmax_6_3 -132309.375 3810216.5 62213.50869416186\n",
      "pixelsmax_7_0 -139655.15625 3810234.5 62215.03292920941\n",
      "pixelsmax_7_1 -139655.15625 3810224.5 62214.711084359085\n",
      "pixelsmax_7_2 -139655.15625 3810226.5 62215.13101259335\n",
      "pixelsmax_7_3 -139655.15625 3810216.5 62215.17180342409\n",
      "pixelsmax_8_0 -141424.109375 3810234.5 62231.637448961956\n",
      "pixelsmax_8_1 -141424.109375 3810224.5 62231.30558726065\n",
      "pixelsmax_8_2 -141424.109375 3810226.5 62231.72696555872\n",
      "pixelsmax_8_3 -141424.109375 3810216.5 62231.76360405469\n",
      "pixelsmax_9_0 -141424.109375 3810234.5 62247.456133821004\n",
      "pixelsmax_9_1 -141424.109375 3810224.5 62247.11416379793\n",
      "pixelsmax_9_2 -141424.109375 3810226.5 62247.53404169868\n",
      "pixelsmax_9_3 -141424.109375 3810216.5 62247.568636740754\n",
      "pixelsmean_0_0 -381054.46875 3810232.25 62507.82404375824\n",
      "pixelsmean_0_1 -381054.46875 3810206.5 62507.364063314395\n",
      "pixelsmean_0_2 -11725658.0 70.91911315917969 191299.0886360207\n",
      "pixelsmean_0_3 -381054.46875 3810216.0 62507.90406329572\n",
      "pixelsmean_10_0 -141424.109375 3810232.25 62243.79355748196\n",
      "pixelsmean_10_1 -141424.109375 3810206.5 62243.35968867287\n",
      "pixelsmean_10_2 -11725658.0 78.86724090576172 191193.55421460184\n",
      "pixelsmean_10_3 -141424.109375 3810216.0 62243.92521084007\n",
      "pixelsmean_11_0 -141424.109375 3810232.25 62241.03254119101\n",
      "pixelsmean_11_1 -141424.109375 3810206.5 62240.59747514583\n",
      "pixelsmean_11_2 -11725658.0 79.22534942626953 191192.9628329572\n",
      "pixelsmean_11_3 -141424.109375 3810216.0 62241.1672376355\n",
      "pixelsmean_12_0 -141424.109375 3810232.25 62240.52605862508\n",
      "pixelsmean_12_1 -141424.109375 3810206.5 62240.088166219466\n",
      "pixelsmean_12_2 -11725658.0 76.84001159667969 191192.89124628648\n",
      "pixelsmean_12_3 -141424.109375 3810216.0 62240.66389346285\n",
      "pixelsmean_13_0 -138757.40625 3810232.25 62239.327015707706\n",
      "pixelsmean_13_1 -138757.390625 3810206.5 62238.88761913236\n",
      "pixelsmean_13_2 -11725658.0 2242.787353515625 191192.4366484703\n",
      "pixelsmean_13_3 -138757.171875 3810216.0 62239.46111080101\n",
      "pixelsmean_14_0 -148062.78125 3810232.25 62254.42426849802\n",
      "pixelsmean_14_1 -148068.125 3810206.5 62253.98168248337\n",
      "pixelsmean_14_2 -11725658.0 2881.968017578125 191218.45321989275\n",
      "pixelsmean_14_3 -148038.84375 3810216.0 62259.00083251111\n",
      "pixelsmean_15_0 -13656.7216796875 3810232.25 62220.00795054048\n",
      "pixelsmean_15_1 -13657.2412109375 3810206.5 62219.52728116867\n",
      "pixelsmean_15_2 -11725658.0 40202.18359375 191230.31371398421\n",
      "pixelsmean_15_3 -367112.375 3810216.0 62498.16076004445\n",
      "pixelsmean_1_0 -381054.46875 3810232.25 62490.27047741323\n",
      "pixelsmean_1_1 -381054.46875 3810206.5 62489.808743948066\n",
      "pixelsmean_1_2 -11725658.0 69.86053466796875 191250.78620665328\n",
      "pixelsmean_1_3 -381054.46875 3810216.0 62490.347087070506\n",
      "pixelsmean_2_0 -381054.46875 3810232.25 62492.935572478105\n",
      "pixelsmean_2_1 -381054.46875 3810206.5 62492.49158990681\n",
      "pixelsmean_2_2 -11725658.0 72.91981506347656 191251.60199926826\n",
      "pixelsmean_2_3 -381054.46875 3810216.0 62493.039701352376\n",
      "pixelsmean_3_0 -381054.46875 3810232.25 62493.56466605187\n",
      "pixelsmean_3_1 -381054.46875 3810206.5 62493.137006050936\n",
      "pixelsmean_3_2 -11725658.0 72.19956970214844 191273.8034450759\n",
      "pixelsmean_3_3 -381054.46875 3810216.0 62493.70012670397\n",
      "pixelsmean_4_0 -381054.46875 3810232.25 62502.79901637724\n",
      "pixelsmean_4_1 -381054.46875 3810206.5 62502.36708765849\n",
      "pixelsmean_4_2 -11725658.0 68.97926330566406 191298.02514180983\n",
      "pixelsmean_4_3 -381054.46875 3810216.0 62502.92599395822\n",
      "pixelsmean_5_0 -381054.46875 3810232.25 62515.54493573418\n",
      "pixelsmean_5_1 -381054.46875 3810206.5 62515.10508916134\n",
      "pixelsmean_5_2 -11725658.0 70.50702667236328 191236.97766858252\n",
      "pixelsmean_5_3 -381054.46875 3810216.0 62515.65786423695\n",
      "pixelsmean_6_0 -149032.203125 3810232.25 62263.41438727795\n",
      "pixelsmean_6_1 -149034.609375 3810206.5 62262.977971300505\n",
      "pixelsmean_6_2 -11725658.0 73.07136535644531 191134.8119659767\n",
      "pixelsmean_6_3 -148973.78125 3810216.0 62263.50389259394\n",
      "pixelsmean_7_0 -202684.921875 3810232.25 62300.36395491782\n",
      "pixelsmean_7_1 -202686.34375 3810206.5 62299.93249494064\n",
      "pixelsmean_7_2 -11725658.0 72.03555297851562 191146.93566454243\n",
      "pixelsmean_7_3 -202649.46875 3810216.0 62300.46522379944\n",
      "pixelsmean_8_0 -141424.109375 3810232.25 62232.881600705594\n",
      "pixelsmean_8_1 -141424.109375 3810206.5 62232.44906907316\n",
      "pixelsmean_8_2 -11725658.0 69.75379943847656 191168.95361375334\n",
      "pixelsmean_8_3 -141424.109375 3810216.0 62233.017472557716\n",
      "pixelsmean_9_0 -141424.109375 3810232.25 62250.5380686686\n",
      "pixelsmean_9_1 -141424.109375 3810206.5 62250.10510772969\n",
      "pixelsmean_9_2 -11725658.0 75.40314483642578 191217.21167666727\n",
      "pixelsmean_9_3 -141424.109375 3810216.0 62250.67165938551\n"
     ]
    },
    {
     "name": "stdout",
     "output_type": "stream",
     "text": [
      "pixelsmin_0_0 -381054.46875 3810230.0 62517.09817866777\n",
      "pixelsmin_0_1 -381054.46875 3810188.75 62516.542847362776\n",
      "pixelsmin_0_2 -27262596.0 44.56153869628906 444670.59214937314\n",
      "pixelsmin_0_3 -381054.46875 3810215.75 62517.17741217027\n",
      "pixelsmin_10_0 -141424.109375 3810230.0 62252.6678592564\n",
      "pixelsmin_10_1 -141424.109375 3810188.75 62252.114995694734\n",
      "pixelsmin_10_2 -27262596.0 44.72956848144531 444580.29444649076\n",
      "pixelsmin_10_3 -141424.109375 3810215.75 62252.8215053567\n",
      "pixelsmin_11_0 -141424.109375 3810230.0 62248.23016531363\n",
      "pixelsmin_11_1 -141424.109375 3810188.75 62247.681460710555\n",
      "pixelsmin_11_2 -27262596.0 46.04081344604492 444580.19197223615\n",
      "pixelsmin_11_3 -141424.109375 3810215.75 62248.39980371716\n",
      "pixelsmin_12_0 -141424.109375 3810230.0 62246.71335070385\n",
      "pixelsmin_12_1 -141424.109375 3810188.75 62249.85801767046\n",
      "pixelsmin_12_2 -27262596.0 43.433773040771484 444580.0925173747\n",
      "pixelsmin_12_3 -141424.109375 3810215.75 62246.88428927224\n",
      "pixelsmin_13_0 -141566.140625 3810230.0 62250.14801347141\n",
      "pixelsmin_13_1 -141566.140625 3810188.75 62252.66000044995\n",
      "pixelsmin_13_2 -27262596.0 44.519378662109375 444580.3045213997\n",
      "pixelsmin_13_3 -141566.140625 3810215.75 62250.303026694426\n",
      "pixelsmin_14_0 -325011.9375 3810230.0 62446.155563665634\n",
      "pixelsmin_14_1 -325011.9375 3810188.75 62445.79669890145\n",
      "pixelsmin_14_2 -27262596.0 42.8802490234375 444661.03868621204\n",
      "pixelsmin_14_3 -325011.9375 3810215.75 62475.990417861096\n",
      "pixelsmin_15_0 -673685.0 3810230.0 63135.88563679037\n",
      "pixelsmin_15_1 -973076.6875 3810188.75 64107.79478355515\n",
      "pixelsmin_15_2 -27262596.0 860.392578125 445435.1093743383\n",
      "pixelsmin_15_3 -25354382.0 3810215.75 406203.1847149124\n",
      "pixelsmin_1_0 -381054.46875 3810230.0 62497.72103890242\n",
      "pixelsmin_1_1 -381054.46875 3810188.75 62497.1402721006\n",
      "pixelsmin_1_2 -27262596.0 43.41108703613281 444559.00800184027\n",
      "pixelsmin_1_3 -381054.46875 3810215.75 62497.82018433946\n",
      "pixelsmin_2_0 -381054.46875 3810230.0 62496.57332709295\n",
      "pixelsmin_2_1 -381054.46875 3810188.75 62495.97458549947\n",
      "pixelsmin_2_2 -27262596.0 42.71549987792969 444558.9865316846\n",
      "pixelsmin_2_3 -381054.46875 3810215.75 62496.65327251064\n",
      "pixelsmin_3_0 -381054.46875 3810230.0 62499.39403290333\n",
      "pixelsmin_3_1 -381054.46875 3810188.75 62498.8290794987\n",
      "pixelsmin_3_2 -27262596.0 45.24810028076172 444614.30825351033\n",
      "pixelsmin_3_3 -381054.46875 3810215.75 62499.536533040715\n",
      "pixelsmin_4_0 -381054.46875 3810230.0 62540.7447992214\n",
      "pixelsmin_4_1 -381054.46875 3810188.75 62540.235963950065\n",
      "pixelsmin_4_2 -27262596.0 45.190982818603516 444674.0174448249\n",
      "pixelsmin_4_3 -381054.46875 3810215.75 62540.84732238008\n",
      "pixelsmin_5_0 -381054.46875 3810230.0 62526.8112084248\n",
      "pixelsmin_5_1 -381054.46875 3810188.75 62526.30043783613\n",
      "pixelsmin_5_2 -27262596.0 44.047149658203125 444507.9102963191\n",
      "pixelsmin_5_3 -381054.46875 3810215.75 62526.918593342176\n",
      "pixelsmin_6_0 -381054.46875 3810230.0 62523.337767078876\n",
      "pixelsmin_6_1 -381054.46875 3810188.75 62522.78690750485\n",
      "pixelsmin_6_2 -27262596.0 43.164066314697266 444452.7939122938\n",
      "pixelsmin_6_3 -381054.46875 3810215.75 62523.44986657134\n",
      "pixelsmin_7_0 -400993.875 3810230.0 62546.42919463905\n",
      "pixelsmin_7_1 -400993.875 3810188.75 62545.98849125601\n",
      "pixelsmin_7_2 -27262596.0 44.272125244140625 444456.5302159708\n",
      "pixelsmin_7_3 -400993.875 3810215.75 62546.547318374534\n",
      "pixelsmin_8_0 -141424.109375 3810230.0 62238.79274560891\n",
      "pixelsmin_8_1 -141424.109375 3810188.75 62238.2362846281\n",
      "pixelsmin_8_2 -27262596.0 43.64622497558594 444524.37844151113\n",
      "pixelsmin_8_3 -141424.109375 3810215.75 62238.93772363273\n",
      "pixelsmin_9_0 -141424.109375 3810230.0 62259.78099830267\n",
      "pixelsmin_9_1 -141424.109375 3810188.75 62259.34103512675\n",
      "pixelsmin_9_2 -27262596.0 44.0319709777832 444636.09918529575\n",
      "pixelsmin_9_3 -141424.109375 3810215.75 62259.92296602696\n",
      "posPeaks2std 0.0 859.0 100.89269331765914\n",
      "posPeaks3std 0.0 654.0 13.908391379853883\n",
      "posPeaks5std 0.0 46.0 3.9641593862898574\n",
      "windDedispTimeSeriesmax0 -91453072.0 8539.6015625 1504916.1393025257\n",
      "windDedispTimeSeriesmax1 -91453072.0 6964.91455078125 1510310.4952825718\n",
      "windDedispTimeSeriesmax10 -18290240.0 53963424.0 922641.6169086761\n",
      "windDedispTimeSeriesmax11 -18290240.0 54611508.0 922725.9003145467\n",
      "windDedispTimeSeriesmax12 -75907512.0 119605456.0 2263602.1244654334\n",
      "windDedispTimeSeriesmax13 -336290304.0 113184760.0 5635060.350114441\n",
      "windDedispTimeSeriesmax14 -622179584.0 112789832.0 10039587.125125129\n",
      "windDedispTimeSeriesmax15 -827159872.0 10842.5244140625 15674156.343470857\n",
      "windDedispTimeSeriesmax2 -91453072.0 7360.76953125 1521077.285405465\n",
      "windDedispTimeSeriesmax3 -91453072.0 7972.60400390625 1536531.9410072495\n",
      "windDedispTimeSeriesmax4 -72040232.0 86825.421875 1272362.1919108122\n",
      "windDedispTimeSeriesmax5 -43708592.0 967239.1875 886515.5993159775\n",
      "windDedispTimeSeriesmax6 -26669716.0 43453024.0 948775.0888695066\n",
      "windDedispTimeSeriesmax7 -22045180.0 42619860.0 817577.1378853158\n",
      "windDedispTimeSeriesmax8 -18521456.0 48878496.0 882579.3928449937\n",
      "windDedispTimeSeriesmax9 -18290240.0 49380560.0 871228.567814253\n",
      "windDedispTimeSeriesmean0 -91453064.0 5181.61865234375 1515020.7484814278\n",
      "windDedispTimeSeriesmean1 -91453064.0 4667.09912109375 1519601.3918113569\n",
      "windDedispTimeSeriesmean10 -18290240.0 51366912.0 893076.6770221754\n",
      "windDedispTimeSeriesmean11 -18290240.0 1757992.75 331511.2999582189\n",
      "windDedispTimeSeriesmean12 -163538192.0 27179000.0 2644703.479087365\n",
      "windDedispTimeSeriesmean13 -483284416.0 101795000.0 7845373.248765609\n",
      "windDedispTimeSeriesmean14 -750425152.0 4165.35888671875 11942307.17564171\n",
      "windDedispTimeSeriesmean15 -1564852224.0 4317.8857421875 28900282.815039184\n",
      "windDedispTimeSeriesmean2 -91453064.0 5015.3017578125 1532645.9171146718\n",
      "windDedispTimeSeriesmean3 -91453064.0 6935.61083984375 1544805.0380934486\n",
      "windDedispTimeSeriesmean4 -87416992.0 34731.984375 1503971.5890973986\n",
      "windDedispTimeSeriesmean5 -51737276.0 282756.71875 1010023.8772665489\n",
      "windDedispTimeSeriesmean6 -30773396.0 30394594.0 862651.5768180497\n",
      "windDedispTimeSeriesmean7 -23774362.0 32565172.0 754011.1378426123\n",
      "windDedispTimeSeriesmean8 -20273122.0 44433836.0 832485.5505625913\n",
      "windDedispTimeSeriesmean9 -18290240.0 48216284.0 866341.2196816417\n",
      "windDedispTimeSeriesmin0 -91453072.0 3706.460205078125 1523429.558737182\n",
      "windDedispTimeSeriesmin1 -91453072.0 3488.380859375 1534265.1359479115\n",
      "windDedispTimeSeriesmin10 -18290240.0 44350440.0 814719.0165913884\n",
      "windDedispTimeSeriesmin11 -74688640.0 1080527.875 1232314.103530202\n",
      "windDedispTimeSeriesmin12 -332322912.0 3182.36474609375 5281763.502885751\n",
      "windDedispTimeSeriesmin13 -618832448.0 85967008.0 9923759.170457989\n",
      "windDedispTimeSeriesmin14 -828420096.0 3467.2216796875 15508434.6912154\n",
      "windDedispTimeSeriesmin15 -2763422208.0 3553.66455078125 46648169.61175253\n",
      "windDedispTimeSeriesmin2 -91453072.0 3746.5 1547933.130195036\n",
      "windDedispTimeSeriesmin3 -91453072.0 6051.5068359375 1553956.3708505337\n",
      "windDedispTimeSeriesmin4 -91453072.0 4927.58984375 1569318.503678904\n",
      "windDedispTimeSeriesmin5 -71513248.0 86751.1328125 1295190.9880400444\n",
      "windDedispTimeSeriesmin6 -43700824.0 983059.9375 894524.8566860624\n",
      "windDedispTimeSeriesmin7 -28173574.0 22256054.0 759146.2383209849\n",
      "windDedispTimeSeriesmin8 -22015300.0 37617420.0 759264.1709440579\n",
      "windDedispTimeSeriesmin9 -18482722.0 43555524.0 825620.4408478971\n",
      "windDedispTimeSeriessnr0 -13749632.0 23.208261996069034 283080.124594135\n",
      "windDedispTimeSeriessnr1 -13749632.0 25.573640008425098 283009.2042162271\n",
      "windDedispTimeSeriessnr10 -13749632.0 70.7568119095219 217700.35840567417\n",
      "windDedispTimeSeriessnr11 -13749632.0 83.42307658610962 217727.648139821\n",
      "windDedispTimeSeriessnr12 -13749632.0 20.127437041762583 217727.6481801689\n",
      "windDedispTimeSeriessnr13 -13749632.0 21.17743693063942 217700.3540971987\n",
      "windDedispTimeSeriessnr14 -13749632.0 23.0265874756203 217782.26350265084\n",
      "windDedispTimeSeriessnr15 -13749632.0 20.170574138722326 217782.26253621967\n",
      "windDedispTimeSeriessnr2 -13749632.0 25.958071759661735 283080.1266909347\n",
      "windDedispTimeSeriessnr3 -13749632.0 24.49677325891283 283080.1261613485\n",
      "windDedispTimeSeriessnr4 -13749632.0 26.143706001922226 217700.36079436212\n",
      "windDedispTimeSeriessnr5 -13749632.0 25.929145412771515 217591.29080339716\n",
      "windDedispTimeSeriessnr6 -13749632.0 23.442421939499372 217591.28867781718\n",
      "windDedispTimeSeriessnr7 -13749632.0 58.40191112436648 217645.8011064065\n",
      "windDedispTimeSeriessnr8 -13749632.0 55.00868664578884 217754.9516389523\n",
      "windDedispTimeSeriessnr9 -13749632.0 32.97013350732927 217754.9532332675\n",
      "windDedispTimeSeriesstd0 0.0 1097347.5 32515.09845812923\n",
      "windDedispTimeSeriesstd1 0.0 2304019.0 45016.71133683392\n",
      "windDedispTimeSeriesstd10 0.0 3601315.0 68945.29701152774\n",
      "windDedispTimeSeriesstd11 0.0 44172428.0 699948.5121262079\n",
      "windDedispTimeSeriesstd12 0.0 76273984.0 1378982.4681602782\n",
      "windDedispTimeSeriesstd13 0.0 76335256.0 1217934.0548922329\n"
     ]
    },
    {
     "name": "stdout",
     "output_type": "stream",
     "text": [
      "windDedispTimeSeriesstd14 0.0 180588240.0 3025730.044265977\n",
      "windDedispTimeSeriesstd15 0.0 649447936.0 10327885.344115833\n",
      "windDedispTimeSeriesstd2 0.0 3611191.5 64040.07236802393\n",
      "windDedispTimeSeriesstd3 0.0 1072141.875 20058.42249794019\n",
      "windDedispTimeSeriesstd4 0.0 5983301.0 101402.0014999105\n",
      "windDedispTimeSeriesstd5 0.0 9163994.0 152109.1003944958\n",
      "windDedispTimeSeriesstd6 0.0 11156419.0 205290.7547790657\n",
      "windDedispTimeSeriesstd7 0.0 10946682.0 193168.1091590713\n",
      "windDedispTimeSeriesstd8 0.0 2838168.75 57065.90983834227\n",
      "windDedispTimeSeriesstd9 0.0 3615601.0 68642.16962536819\n",
      "windTimeSeriesmax0 -91453072.0 94.86181640625 1481616.121956634\n",
      "windTimeSeriesmax1 -91453072.0 262.3088684082031 1476954.9774772534\n",
      "windTimeSeriesmax10 -33941788.0 265.2313537597656 614865.4232630489\n",
      "windTimeSeriesmax11 -33941788.0 238.30093383789062 610319.1866614893\n",
      "windTimeSeriesmax12 -33941788.0 113.506103515625 610319.2428812812\n",
      "windTimeSeriesmax13 -21273512.0 1221632.75 444611.33770573634\n",
      "windTimeSeriesmax14 -18290240.0 6406762.0 310405.39309368556\n",
      "windTimeSeriesmax15 -18290240.0 1069090688.0 16930934.544697195\n",
      "windTimeSeriesmax2 -91453072.0 102.3880615234375 1482791.2625300498\n",
      "windTimeSeriesmax3 -91453072.0 109.416015625 1476784.6173779634\n",
      "windTimeSeriesmax4 -91453072.0 108.86962890625 1477087.243619213\n",
      "windTimeSeriesmax5 -91453072.0 234.91184997558594 1541338.3169316363\n",
      "windTimeSeriesmax6 -31754250.0 92.052734375 594385.2317847281\n",
      "windTimeSeriesmax7 -33517232.0 105.09326171875 604186.9724434556\n",
      "windTimeSeriesmax8 -33941788.0 91.681396484375 610242.7766186247\n",
      "windTimeSeriesmax9 -33941788.0 110.65997314453125 611427.7888895796\n",
      "windTimeSeriesmean0 -91453064.0 0.9395940899848938 1491772.0321740278\n",
      "windTimeSeriesmean1 -91453064.0 1.4809019565582275 1487162.5647601362\n",
      "windTimeSeriesmean10 -33941788.0 0.20694515109062195 628224.2326741772\n",
      "windTimeSeriesmean11 -33941788.0 0.15113702416419983 613563.6146382071\n",
      "windTimeSeriesmean12 -33941788.0 0.4435504376888275 610989.2116535761\n",
      "windTimeSeriesmean13 -33301734.0 542368.125 603651.621107866\n",
      "windTimeSeriesmean14 -35534056.0 0.40253618359565735 645189.1774871647\n",
      "windTimeSeriesmean15 -22768912.0 9620921.0 503104.9950288178\n",
      "windTimeSeriesmean2 -91453064.0 0.43854159116744995 1493433.888620678\n",
      "windTimeSeriesmean3 -91453064.0 0.98868727684021 1477341.4416277567\n",
      "windTimeSeriesmean4 -91453064.0 0.5650439858436584 1480585.5164159306\n",
      "windTimeSeriesmean5 -91453064.0 0.818953812122345 1563830.5148967495\n",
      "windTimeSeriesmean6 -35763924.0 0.2307591438293457 835661.6886363784\n",
      "windTimeSeriesmean7 -48641672.0 0.40619394183158875 981189.7459990226\n",
      "windTimeSeriesmean8 -33941788.0 0.5454440116882324 611518.2720116262\n",
      "windTimeSeriesmean9 -33941788.0 0.9504614472389221 622386.5204276342\n",
      "windTimeSeriesmin0 -91453072.0 -3.3527612686157227e-08 1510533.5909479002\n",
      "windTimeSeriesmin1 -91453072.0 0.398712158203125 1501935.5574734996\n",
      "windTimeSeriesmin10 -33941788.0 0.1024169921875 667295.0360861435\n",
      "windTimeSeriesmin11 -33941788.0 0.1024169921875 645597.2927889084\n",
      "windTimeSeriesmin12 -33941788.0 0.1024169921875 637751.9194431216\n",
      "windTimeSeriesmin13 -33975872.0 0.1024169921875 654984.3037092128\n",
      "windTimeSeriesmin14 -78002872.0 0.1024169921875 1335323.6936778482\n",
      "windTimeSeriesmin15 -1623082112.0 0.1024169921875 25697913.500934888\n",
      "windTimeSeriesmin2 -91453072.0 0.400238037109375 1499070.8912317203\n",
      "windTimeSeriesmin3 -91453072.0 -3.3527612686157227e-08 1487941.7767714623\n",
      "windTimeSeriesmin4 -91453072.0 -5.029141902923584e-08 1565751.8648420675\n",
      "windTimeSeriesmin5 -91453072.0 0.014068603515625 1586467.372910822\n",
      "windTimeSeriesmin6 -91453072.0 -5.774199962615967e-08 1596000.8472021788\n",
      "windTimeSeriesmin7 -96238544.0 0.0360107421875 1648154.4584714132\n",
      "windTimeSeriesmin8 -33941788.0 0.0360107421875 636101.2573597338\n",
      "windTimeSeriesmin9 -33941788.0 0.0360107421875 664642.1774263876\n",
      "windTimeSeriessnr0 -13749632.0 27.47703748122286 283009.16767887457\n",
      "windTimeSeriessnr1 -13749632.0 656.1942330742379 282938.2836089884\n",
      "windTimeSeriessnr10 -13749632.0 22.02278229212701 217618.51643975603\n",
      "windTimeSeriessnr11 -13749632.0 19.03450114881429 217618.51618446913\n",
      "windTimeSeriessnr12 -13749632.0 17.698616377362054 217618.51757945595\n",
      "windTimeSeriessnr13 -13749632.0 19.544761066307547 217618.51706906402\n",
      "windTimeSeriessnr14 -13749632.0 22.310177208007048 217645.77852274742\n",
      "windTimeSeriessnr15 -13749632.0 27.62247093376746 217673.0509835847\n",
      "windTimeSeriessnr2 -13749632.0 2338.569215291802 282938.31516404205\n",
      "windTimeSeriessnr3 -13749632.0 17.598137426648663 282973.72664344596\n",
      "windTimeSeriessnr4 -13749632.0 22.213003466485922 283009.16712933395\n",
      "windTimeSeriessnr5 -13749632.0 27.622482252128236 282902.88611227274\n",
      "windTimeSeriessnr6 -13749632.0 19.146508547904197 217536.79140813736\n",
      "windTimeSeriessnr7 -13749632.0 27.043711117351677 217536.79076831427\n",
      "windTimeSeriessnr8 -13749632.0 25.611976748667438 217591.26447065282\n",
      "windTimeSeriessnr9 -13749632.0 15.938544893991574 217645.77817378435\n",
      "windTimeSeriesstd0 0.0 4439202.5 92773.47098680135\n",
      "windTimeSeriesstd1 0.0 4793790.0 93685.10856907521\n",
      "windTimeSeriesstd10 0.0 4087827.75 85993.03743132013\n",
      "windTimeSeriesstd11 0.0 2355365.75 55572.90702944897\n",
      "windTimeSeriesstd12 0.0 2723339.25 50398.09094265002\n",
      "windTimeSeriesstd13 0.0 2512014.0 74507.83244767238\n",
      "windTimeSeriesstd14 0.0 33454008.0 542617.4159979629\n",
      "windTimeSeriesstd15 0.0 94146336.0 1500074.810987083\n",
      "windTimeSeriesstd2 0.0 1349332.625 44063.40742330716\n",
      "windTimeSeriesstd3 0.0 3467748.25 57476.66806558896\n",
      "windTimeSeriesstd4 0.0 8996307.0 158664.28647740543\n",
      "windTimeSeriesstd5 0.0 4459537.0 80901.64825047886\n",
      "windTimeSeriesstd6 0.0 42003432.0 673098.5863901773\n",
      "windTimeSeriesstd7 0.0 45288468.0 717908.6187576982\n",
      "windTimeSeriesstd8 0.0 2859810.75 56752.47748711488\n",
      "windTimeSeriesstd9 0.0 3260748.25 85279.63822820605\n",
      "Label 0 11 3.03391911004423\n",
      "predictLabel -1 -1 0.0\n",
      "relMJDmax 0.0 6.62340025883168e-05 1.361582284293426e-05\n",
      "relMJDmean -3.218738129362464e-07 5.723360663978383e-05 7.858091645073644e-06\n",
      "relMJDmedian 0.0 6.341200787574053e-05 9.22177424168155e-06\n"
     ]
    }
   ],
   "source": [
    "for col in labelledDf:\n",
    "    if labelledDf[col].dtype == object: print(col, labelledDf[col].min(), labelledDf[col].max())\n",
    "    else: print(col, labelledDf[col].min(), labelledDf[col].max(), labelledDf[col].std())"
   ]
  },
  {
   "cell_type": "markdown",
   "metadata": {},
   "source": [
    "#### Drop Features that are not useful"
   ]
  },
  {
   "cell_type": "code",
   "execution_count": 13,
   "metadata": {},
   "outputs": [],
   "source": [
    "featureDf = labelledDf.drop(['Block', 'Label', 'predictLabel'], axis=1)"
   ]
  },
  {
   "cell_type": "markdown",
   "metadata": {},
   "source": [
    "### Pre-processing\n",
    "\n",
    "Prepare the features for model building: outliers (inf, NaN) are replaced, the features are scaled to approximately zero mean, and unity variance."
   ]
  },
  {
   "cell_type": "code",
   "execution_count": 14,
   "metadata": {},
   "outputs": [],
   "source": [
    "import sklearn.preprocessing\n",
    "import sklearn.impute"
   ]
  },
  {
   "cell_type": "markdown",
   "metadata": {},
   "source": [
    "#### Convert feature dataframe to 2-D array of floats"
   ]
  },
  {
   "cell_type": "code",
   "execution_count": 15,
   "metadata": {},
   "outputs": [],
   "source": [
    "featuresArr = featureDf.values.astype('float32')\n",
    "featureNames = list(featureDf.columns.values)\n",
    "preProcLabels = labels.copy()"
   ]
  },
  {
   "cell_type": "code",
   "execution_count": 16,
   "metadata": {},
   "outputs": [
    {
     "name": "stdout",
     "output_type": "stream",
     "text": [
      "NaN values in feature array: []\n"
     ]
    }
   ],
   "source": [
    "featuresArr[featuresArr == -1. * np.inf] = np.nan\n",
    "featuresArr[featuresArr == np.inf] = np.nan\n",
    "print('NaN values in feature array:', featuresArr[featuresArr == np.nan])\n",
    "\n",
    "imp = sklearn.impute.SimpleImputer(strategy='mean').fit(featuresArr)\n",
    "\n",
    "preProcFeats = imp.transform(featuresArr)"
   ]
  },
  {
   "cell_type": "markdown",
   "metadata": {},
   "source": [
    "#### Scale Features\n",
    "\n",
    "Robust scaling uses a median filter, this is better for non-Gaussian distributions"
   ]
  },
  {
   "cell_type": "code",
   "execution_count": 17,
   "metadata": {},
   "outputs": [
    {
     "data": {
      "image/png": "[encoded data removed]",
      "text/plain": [
       "<Figure size 864x432 with 1 Axes>"
      ]
     },
     "metadata": {
      "needs_background": "light"
     },
     "output_type": "display_data"
    }
   ],
   "source": [
    "rScale = sklearn.preprocessing.RobustScaler().fit(preProcFeats)\n",
    "\n",
    "plt.figure(figsize=(12, 6))\n",
    "plt.loglog(rScale.center_, rScale.scale_, '.')\n",
    "#plt.plot(rScale.center_, rScale.scale_, '.')\n",
    "#for fnid, fName in enumerate(featureNames): plt.text(rScale.center_[fnid], rScale.scale_[fnid], fName)\n",
    "plt.xlabel('Center')\n",
    "plt.ylabel('Scale')\n",
    "\n",
    "preProcFeats = rScale.transform(preProcFeats)"
   ]
  },
  {
   "cell_type": "markdown",
   "metadata": {},
   "source": [
    "### Train Classifier Model"
   ]
  },
  {
   "cell_type": "code",
   "execution_count": 18,
   "metadata": {},
   "outputs": [],
   "source": [
    "import sklearn.ensemble\n",
    "import sklearn.multiclass\n",
    "import sklearn.model_selection"
   ]
  },
  {
   "cell_type": "markdown",
   "metadata": {},
   "source": [
    "#### Validation\n",
    "\n",
    "Stratified k-fold cross validation"
   ]
  },
  {
   "cell_type": "code",
   "execution_count": 19,
   "metadata": {},
   "outputs": [],
   "source": [
    "k_fold = sklearn.model_selection.StratifiedKFold(n_splits=3, shuffle=True)"
   ]
  },
  {
   "cell_type": "markdown",
   "metadata": {},
   "source": [
    "#### Classifier Model\n",
    "\n",
    "One vs. Rest : Random Forest"
   ]
  },
  {
   "cell_type": "code",
   "execution_count": 20,
   "metadata": {},
   "outputs": [],
   "source": [
    "clf = sklearn.multiclass.OneVsRestClassifier(sklearn.ensemble.RandomForestClassifier(n_estimators=80))"
   ]
  },
  {
   "cell_type": "code",
   "execution_count": 21,
   "metadata": {},
   "outputs": [
    {
     "data": {
      "text/plain": [
       "OneVsRestClassifier(estimator=RandomForestClassifier(bootstrap=True, class_weight=None, criterion='gini',\n",
       "            max_depth=None, max_features='auto', max_leaf_nodes=None,\n",
       "            min_impurity_decrease=0.0, min_impurity_split=None,\n",
       "            min_samples_leaf=1, min_samples_split=2,\n",
       "            min_weight_fraction_leaf=0.0, n_estimators=80, n_jobs=None,\n",
       "            oob_score=False, random_state=None, verbose=0,\n",
       "            warm_start=False),\n",
       "          n_jobs=None)"
      ]
     },
     "execution_count": 21,
     "metadata": {},
     "output_type": "execute_result"
    }
   ],
   "source": [
    "clf.fit(preProcFeats, preProcLabels)"
   ]
  },
  {
   "cell_type": "markdown",
   "metadata": {},
   "source": [
    "### Classifier Model Analysis"
   ]
  },
  {
   "cell_type": "markdown",
   "metadata": {},
   "source": [
    "#### Model Scoring : Confusion Matrix"
   ]
  },
  {
   "cell_type": "code",
   "execution_count": 22,
   "metadata": {},
   "outputs": [
    {
     "name": "stdout",
     "output_type": "stream",
     "text": [
      "[-0.5908349  -0.54817537 -0.54258977]\n"
     ]
    }
   ],
   "source": [
    "print(sklearn.model_selection.cross_val_score(clf, preProcFeats, preProcLabels,\\\n",
    "                                              cv=k_fold, n_jobs=-1, scoring='neg_log_loss'))\n",
    "\n",
    "\n",
    "# Train/Test Validation\n",
    "X_train, X_test, y_train, y_test = sklearn.model_selection.train_test_split(preProcFeats,\\\n",
    "                                                            preProcLabels, test_size=0.25, random_state=0)\n",
    "predictTestX = clf.fit(X_train, y_train).predict_proba(X_test)\n",
    "confuseMatrix = sklearn.metrics.confusion_matrix(y_test, clf.fit(X_train, y_train).predict(X_test))"
   ]
  },
  {
   "cell_type": "code",
   "execution_count": 23,
   "metadata": {},
   "outputs": [
    {
     "data": {
      "image/png": "[encoded data removed]",
      "text/plain": [
       "<Figure size 576x576 with 1 Axes>"
      ]
     },
     "metadata": {
      "needs_background": "light"
     },
     "output_type": "display_data"
    }
   ],
   "source": [
    "classLabels = ['0', '1', '2', '3', '4', '5', '6', '7', '8', '9', 'a', 's']\n",
    "\n",
    "normConfuseMatrix = np.zeros(confuseMatrix.shape)\n",
    "for col in np.arange(confuseMatrix.shape[1]):\n",
    "    normConfuseMatrix[:,col] = confuseMatrix[:,col] / float(confuseMatrix[:,col].max())\n",
    "    \n",
    "dfCM = pd.DataFrame(confuseMatrix, index = [i for i in classLabels], columns = [i for i in classLabels])\n",
    "\n",
    "fig = plt.figure(figsize=(8,8)) # (width, height)\n",
    "sns.heatmap(dfCM, annot=True, vmin=0, vmax=70, fmt='d', cbar=False)\n",
    "#sns.heatmap(dfCM, annot=True, cbar=False)\n",
    "plt.xlabel('Predicted Label ID')\n",
    "plt.ylabel('True Label ID')\n",
    "\n",
    "plt.tight_layout()"
   ]
  },
  {
   "cell_type": "markdown",
   "metadata": {},
   "source": [
    "#### Feature Importance"
   ]
  },
  {
   "cell_type": "code",
   "execution_count": 24,
   "metadata": {},
   "outputs": [],
   "source": [
    "fitModel = clf.fit(preProcFeats, preProcLabels)"
   ]
  },
  {
   "cell_type": "code",
   "execution_count": 25,
   "metadata": {},
   "outputs": [
    {
     "name": "stdout",
     "output_type": "stream",
     "text": [
      "0 DMmedian 0.015581468893448403\n",
      "1 pixelsmax_4_0 0.010228746071569043\n",
      "2 pixelsmax_6_0 0.02317390297765968\n",
      "3 MJDmin 0.048377334523883514\n",
      "4 globalDedispTimeStatsstd 0.03669308803665163\n",
      "5 globalDedispTimeStatsmax 0.061964290063890856\n",
      "6 globalDedispTimeStatsnegPct 0.02041872208781083\n",
      "7 globalDedispTimeStatsmin 0.09209135140475677\n",
      "8 pixelsmin_12_0 0.03393242310231434\n",
      "9 DMmedian 0.08958037830604525\n",
      "a DMmedian 0.075101378969909\n",
      "s DMmin 0.05457918155720807\n"
     ]
    },
    {
     "data": {
      "text/plain": [
       "Text(0.5, 0, 'Feature ID')"
      ]
     },
     "execution_count": 25,
     "metadata": {},
     "output_type": "execute_result"
    },
    {
     "data": {
      "image/png": "[encoded data removed]",
      "text/plain": [
       "<Figure size 1080x360 with 1 Axes>"
      ]
     },
     "metadata": {
      "needs_background": "light"
     },
     "output_type": "display_data"
    }
   ],
   "source": [
    "fig = plt.figure(figsize=(15,5)) # (width, height)\n",
    "for idx in np.arange(len(fitModel.estimators_)):\n",
    "    maxFeatVal = fitModel.estimators_[idx].feature_importances_.max()\n",
    "    plt.plot(fitModel.estimators_[idx].feature_importances_, label=classLabels[idx])\n",
    "    print(classLabels[idx], featureNames[np.argmax(fitModel.estimators_[idx].feature_importances_)], maxFeatVal)\n",
    "\n",
    "plt.legend()\n",
    "plt.xlabel('Feature ID')"
   ]
  },
  {
   "cell_type": "markdown",
   "metadata": {},
   "source": [
    "### Apply Classifier"
   ]
  },
  {
   "cell_type": "markdown",
   "metadata": {},
   "source": [
    "---\n",
    "\n",
    "To Do:\n",
    "\n",
    "* Apply classifier to larger data set, and check results\n",
    "\n",
    "Ideas:\n",
    "\n",
    "* feature: ratio of DM std / DM max\n",
    "* ensemble of classifiers\n",
    "* multi-class: one vs. rest\n",
    "* hyper-parameter grid search\n",
    "* probablistic prediction analysis"
   ]
  }
 ],
 "metadata": {
  "kernelspec": {
   "display_name": "Python 3",
   "language": "python",
   "name": "python3"
  },
  "language_info": {
   "codemirror_mode": {
    "name": "ipython",
    "version": 3
   },
   "file_extension": ".py",
   "mimetype": "text/x-python",
   "name": "python",
   "nbconvert_exporter": "python",
   "pygments_lexer": "ipython3",
   "version": "3.5.2"
  }
 },
 "nbformat": 4,
 "nbformat_minor": 2
}
