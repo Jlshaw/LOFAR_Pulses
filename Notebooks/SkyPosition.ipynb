{
 "cells": [
  {
   "cell_type": "markdown",
   "metadata": {},
   "source": [
    "### Sky Position\n",
    "\n",
    "Given an event timestamp (from a dat file) and beam number, compute the (RA, Dec), (l, b), (alt, az) of the beam centre and a list of pulsars within a 2 degree radius of the beam."
   ]
  },
  {
   "cell_type": "code",
   "execution_count": 1,
   "metadata": {},
   "outputs": [],
   "source": [
    "import numpy as np\n",
    "import pandas as pd\n",
    "import astropy.coordinates\n",
    "import astropy.time\n",
    "from astropy import units as u"
   ]
  },
  {
   "cell_type": "code",
   "execution_count": 2,
   "metadata": {},
   "outputs": [
    {
     "name": "stdout",
     "output_type": "stream",
     "text": [
      "51d08m36.7694s -1d26m04.032s\n"
     ]
    }
   ],
   "source": [
    "# fixed beam declinations\n",
    "beamDecs = np.array([7.9, 11., 13.3, 15.85, 19., 22., 24.9, 28.66]) # beams 1-8\n",
    "\n",
    "# LOFAR-UK HBA (X, Y, Z)\n",
    "loc = astropy.coordinates.EarthLocation(4008461.905110000, -100376.559511000, 4943716.904, unit='m')\n",
    "print(loc.lat, loc.lon)"
   ]
  },
  {
   "cell_type": "markdown",
   "metadata": {},
   "source": [
    "### ATNF pulsar catalogue\n",
    "\n",
    "The ATNF pulsar catalogue contains details of all published pulsars.\n",
    "\n",
    "http://www.atnf.csiro.au/people/pulsar/psrcat/\n",
    "\n",
    "```\n",
    "psrcat -nonumber -nohead -o short -c 'JNAME RAJD DECJD P0 P1 W50 S1400 DM SPINDX SI414' -l \"(W50>0)&&(P1>0)&&(S1400>0)\" > 2018psrcat.csv\n",
    "```"
   ]
  },
  {
   "cell_type": "code",
   "execution_count": 3,
   "metadata": {},
   "outputs": [],
   "source": [
    "# psrcat\n",
    "psrcatFile = '2018psrcat.csv'\n",
    "df = pd.read_csv(psrcatFile, sep='\\s+', header=None, names=['JNAME', 'RAJD', 'DECJD', 'P0', 'P1', 'W50',\\\n",
    "                                                            'S1400', 'DM', 'SPINDX', 'SI414'], na_values='*')\n",
    "#print(df)\n",
    "dfShort = df.drop(labels=['P1', 'SPINDX', 'SI414'], axis=1)"
   ]
  },
  {
   "cell_type": "code",
   "execution_count": 4,
   "metadata": {},
   "outputs": [
    {
     "name": "stdout",
     "output_type": "stream",
     "text": [
      "<SkyCoord (ICRS): (ra, dec) in deg\n",
      "    (165.34230978, 7.9)>\n",
      "<SkyCoord (Galactic): (l, b) in deg\n",
      "    (244.23140747, 57.61706051)>\n",
      "<SkyCoord (AltAz: obstime=2016-03-20 23:05:45.000, location=(4008461.90511, -100376.559511, 4943716.904) m, pressure=0.0 hPa, temperature=0.0 deg_C, relative_humidity=0.0, obswl=1.0 micron): (az, alt) in deg\n",
      "    (177.6190521, 46.64515403)>\n"
     ]
    }
   ],
   "source": [
    "# example: Beam1_dm_D20160320T230545_block9\n",
    "eventName = 'Beam1_dm_D20160320T230545_block9'\n",
    "\n",
    "beamId = int(eventName[4])\n",
    "\n",
    "dtStr = '%s-%s-%s %s:%s:%s'%(eventName[10:14], eventName[14:16], eventName[16:18], eventName[19:21],\\\n",
    "                             eventName[21:23], eventName[23:25])\n",
    "\n",
    "dec = astropy.coordinates.Angle(beamDecs[beamId - 1], u.degree)\n",
    "\n",
    "t = astropy.time.Time(dtStr, scale='utc', location=loc)\n",
    "\n",
    "lstGreenwich = t.sidereal_time('apparent', 'greenwich') # beams are pointed slightly east of the local meridian\n",
    "lst = t.sidereal_time('apparent')\n",
    "ra = lstGreenwich\n",
    "\n",
    "c = astropy.coordinates.SkyCoord(ra=ra, dec=dec, frame='icrs')\n",
    "print(c)\n",
    "print(c.galactic)\n",
    "print(c.transform_to(astropy.coordinates.AltAz(obstime=t, location=loc)))"
   ]
  },
  {
   "cell_type": "code",
   "execution_count": 5,
   "metadata": {},
   "outputs": [
    {
     "name": "stdout",
     "output_type": "stream",
     "text": [
      "Empty DataFrame\n",
      "Columns: [JNAME, RAJD, DECJD, P0, W50, S1400, DM]\n",
      "Index: []\n"
     ]
    }
   ],
   "source": [
    "# find pulsars in the beam\n",
    "beamRadius = 2.0 # degrees\n",
    "\n",
    "print(dfShort[np.sqrt((df['RAJD'] - ra.degree)**2. + (df['DECJD'] - dec.degree)**2.) < beamRadius])"
   ]
  }
 ],
 "metadata": {
  "kernelspec": {
   "display_name": "Python 3",
   "language": "python",
   "name": "python3"
  },
  "language_info": {
   "codemirror_mode": {
    "name": "ipython",
    "version": 3
   },
   "file_extension": ".py",
   "mimetype": "text/x-python",
   "name": "python",
   "nbconvert_exporter": "python",
   "pygments_lexer": "ipython3",
   "version": "3.5.2"
  }
 },
 "nbformat": 4,
 "nbformat_minor": 2
}
